{
  "cells": [
    {
      "cell_type": "markdown",
      "metadata": {
        "id": "1xS03hVFzb7P"
      },
      "source": [
        "# TUGAS KLASIFIKASI DATA PROYEK SAINS DATA - B"
      ]
    },
    {
      "cell_type": "markdown",
      "metadata": {
        "id": "PFm-NOuhzb7T"
      },
      "source": [
        "Nama  : Alif Dhaifullah Ramadhan    \n",
        "NIM   : 210411100020\n",
        "Kelas : B  "
      ]
    },
    {
      "cell_type": "markdown",
      "metadata": {
        "id": "00n1W6D-zb7U"
      },
      "source": [
        "## BUSSINESS UNDERSTANDING\n",
        "\n",
        "### TUJUAN PROYEK\n",
        "#### memprediksi apakah seorang pasien memiliki risiko penyakit stroke berdasarkan model terbaik yang dihasilkan dari klasifikasi penyakit stroke\n",
        "\n",
        "\n",
        "Untuk memprediksi penyaki stroke dapat dilihat dari ciri-ciri sebagai berikut:\n",
        "\n",
        "### DESKRIPSI FITUR\n",
        "- **sex(jenis kelamin pasien)**\n",
        "- **age(umur pasien) (dalam tahun)**\n",
        "- **hypertension(riwayat darah tinggi) (pernah atau tidak)**\n",
        "- **heart_disease(riwayat penyakit jantung) (pernah atau tidak)**\n",
        "- **ever_maried(riwayat menikah) (penah atau tidak)**\n",
        "- **work_type(pekerjaan pasien)**\n",
        "- **Residence_level(tipe tampat tinggal) (desa atau kota)**\n",
        "- **avg_glucose_level(satuan dari level rata rata gula)(mg/dl)**\n",
        "- **bmi(satuan dari indeks masa tubuh)(kg/m2)**  \n",
        "- **smoking_status(riwayat merokok)(pernah atau tidak)**\n"
      ]
    },
    {
      "cell_type": "markdown",
      "metadata": {
        "id": "H5KncazUzb7W"
      },
      "source": [
        "# 2. DATA UNDERSTANDING"
      ]
    },
    {
      "cell_type": "markdown",
      "metadata": {
        "id": "2XNHiLtszb7X"
      },
      "source": [
        "### Teknik Pengumpulan Data\n",
        "Studi ini akan membahas prediksi stroke berdasarkan data survey yang dilakukan oleh CDC pada tahun 2015\n",
        "\n",
        "Tentang Stroke yang merupakan penyebab kematian nomor 2 secara global dan bertanggung jawab atas 11% dari total kematian\n",
        "yang terjadi di dunia. data ini diperoleh oleh cdc berdasarkan surver yang lakukan pada rumah sakit di amerika serikat dan disupport oleh data yang dimiliki oleh WHO.  \n",
        "\n",
        "Jumlah Dataset sebanyak 40910 dengan rincian sebagai berikut:\n",
        "- positive stroke (1) = 20460 data\n",
        "- negative stroke (0) = 20450 data\n",
        "\n",
        "#### MISSING VALUES\n",
        "> - Didalam data sampel stroke setelah dilakukan pengecekan nilai tidak ditemukan data dengan nilai yang hilang (Missing Values).\n",
        "#### OUTLIER PADA DATA\n",
        "> - Setelah dilakukan pengecekan outlier dengan menggunakan teknik Local Outlier Factor diketahui terdapat 271 data yang terdeteksi mengandung outlier.\n",
        "#### PROPORSI JUMLAH KELAS PADA DATA\n",
        "> - Berdasarkan jumlah data pada setiap kelas yang telah di definisikan sebelumnya, dapat diketahui bahwasan nya pada data jumlah masing-masing kelas tidak\n",
        "seimbang dengan perbandingan 86.4% dari jumlah seluruh data untuk data yang diidentifikasi memiliki kualitas buruk dan 13.5% dari jumlah seluruh data untuk data yang diidentifikasi termasuk memiliki\n",
        "kualitas yang bagus.\n",
        "\n",
        "Tipe dari data disetiap kolomnya sebagai berikut:\n",
        "1. Tipe Rasio :\n",
        "> - age\n",
        "> - avg_glucose_level\n",
        "> - bmi\n",
        "\n",
        "\n",
        "2. Tipe Ordinal\n",
        "> - heypertension\n",
        "> - heart desease\n",
        "> - ever married\n",
        "> - work type\n",
        "> - residence level\n",
        "> - smoking status\n",
        "\n",
        "### DESKRIPSI FITUR\n",
        "- **bmi**:\n",
        " Angka BMI normal berada pada kisaran 18,5-25. Jika angka BMI melebihi 25, kamu memiliki berat badan berlebih. Sementara itu, jika angka BMI berada di bawah 18 berarti berat badan kurang. obesitasi merupakan salah satu faktor risiko stroke dikarenakan peradangan jaringan tubuh akibat lemak berlebih. kondisi ini dapat memicu masalah aliran darah dan peningkatan risiko penyumbatan darah. Nah, kondisi ini yang ujung-ujungnya menyebabkan stroke.\n",
        "\n",
        "- **age (umur)**:\n",
        "Ada sejumlah faktor risiko penyakit stroke, diantaranya USIA. Penyakit stroke rata-rata menyerang seseorang yang berusia di atas 60 tahun.\n",
        "\n",
        "- **hypertension (hipertensi)**:\n",
        " suatu keadaan dimana tekanan darah sistolik pada tubuh seseorang lebih dari atau sama dengan 140 mmHg dan atau tekanan darah diastolik lebih dari atau sama dengan 90 mmHg.\n",
        "\n",
        "- **heart disease (penyakit jantung)**:\n",
        "kondisi ketika bagian jantung yang meliputi pembuluh darah jantung, selaput jantung, katup jantung, dan otot jantung mengalami gangguan.\n",
        "\n",
        "- **ever married (pernah menikah)**:\n",
        " Faktor utama penyebab stroke adalah faktor genetik. Faktor genetik adalah faktor keturunan yang disebabkan oleh salah satu anggota keluarga. Umumnya, bagi yang menderita penyakit stroke ini, jika dari faktor genetik, sangat sulit untuk disembuhkan.\n",
        "\n",
        "- **work type (jenis pekerjaan)**:\n",
        "Jenis pekerjaan juga salah satu faktor risiko terjadinya stroke. dikarenakan pekerjaan dengan aktivitas fisik yang lebih rendah rentan terkana stroke dibandingan dengan pekerjaan yang memiliki aktivitas fisik dalam jumlah sedang.\n",
        "\n",
        "- **residence type (tipe tempat tinggal)**:\n",
        "Tempat tinggal juga mempengaruhi terjadinya stroke. karena prevalensi stroke diperkotaan lebih tinggi (8,2%) dibandingkan dengan daerah pedesaan (5,7%).\n",
        "\n",
        "- **avg glucose level (kadar glukosa rata-rata)**:\n",
        "Kandungan gula berlebih dalam darah dapat menyebabkan pembuluh darah menjadi kaku dan penumpukan timbunan lemak. Kondisi inilah yang memicu penggumpalan darah yang bila berpindah ke otak dapat menyebabkan stroke.\n",
        "\n",
        "- **smoking status (status merokok)**:\n",
        "status merokok sangat mempengaruhi terjadinya stroke. Karena merokok bisa mengakibatkan berbagai masalah dengan aliran darah ke otak, dan menyumbang pembentukan gumpalan darah pada pembuluh darah – dan salah satu keduanya meningkatkan kemungkinan timbulnya serangan stroke"
      ]
    },
    {
      "cell_type": "markdown",
      "metadata": {
        "id": "gMAtjRdEzb7l"
      },
      "source": [
        "Adapun hal - hal yang perlu dilakukan untuk memahami data, yakni\n",
        "1. Mendeskripsikan setiap fitur pada data\n",
        "    * tipe data\n",
        "    * deskripsi data\n",
        "2. Mengidentifikasi missing values setiap fitur atau kolom\n",
        "3. Eksplorasi data (grafikan fitur)\n",
        "4. Mengidentifikasi outlier\n",
        "5. Mengidentifikasi jumlah data (proporsi data perkelas -untuk mengetahui balancing dataset atau keseimbangan data per kelas)"
      ]
    },
    {
      "cell_type": "markdown",
      "metadata": {
        "id": "hmzVQ7h-zb7l"
      },
      "source": [
        "## Load Dataset\n",
        "\n",
        "meng import/memanggil dataset stroke"
      ]
    },
    {
      "cell_type": "code",
      "execution_count": null,
      "metadata": {
        "colab": {
          "base_uri": "https://localhost:8080/",
          "height": 206
        },
        "id": "KiWj65O9zb7m",
        "outputId": "6902f3fb-606d-49fc-eb9f-ae1bf9f5e582"
      },
      "outputs": [
        {
          "output_type": "execute_result",
          "data": {
            "text/plain": [
              "   sex   age  hypertension  heart_disease  ever_married  work_type  \\\n",
              "0  1.0  63.0             0              1             1          4   \n",
              "1  1.0  42.0             0              1             1          4   \n",
              "2  0.0  61.0             0              0             1          4   \n",
              "3  1.0  41.0             1              0             1          3   \n",
              "4  1.0  85.0             0              0             1          4   \n",
              "\n",
              "   Residence_type  avg_glucose_level   bmi  smoking_status  stroke  \n",
              "0               1             228.69  36.6               1       1  \n",
              "1               0             105.92  32.5               0       1  \n",
              "2               1             171.23  34.4               1       1  \n",
              "3               0             174.12  24.0               0       1  \n",
              "4               1             186.21  29.0               1       1  "
            ],
            "text/html": [
              "\n",
              "  <div id=\"df-1ac5262e-7222-446c-a083-a628c12bb090\" class=\"colab-df-container\">\n",
              "    <div>\n",
              "<style scoped>\n",
              "    .dataframe tbody tr th:only-of-type {\n",
              "        vertical-align: middle;\n",
              "    }\n",
              "\n",
              "    .dataframe tbody tr th {\n",
              "        vertical-align: top;\n",
              "    }\n",
              "\n",
              "    .dataframe thead th {\n",
              "        text-align: right;\n",
              "    }\n",
              "</style>\n",
              "<table border=\"1\" class=\"dataframe\">\n",
              "  <thead>\n",
              "    <tr style=\"text-align: right;\">\n",
              "      <th></th>\n",
              "      <th>sex</th>\n",
              "      <th>age</th>\n",
              "      <th>hypertension</th>\n",
              "      <th>heart_disease</th>\n",
              "      <th>ever_married</th>\n",
              "      <th>work_type</th>\n",
              "      <th>Residence_type</th>\n",
              "      <th>avg_glucose_level</th>\n",
              "      <th>bmi</th>\n",
              "      <th>smoking_status</th>\n",
              "      <th>stroke</th>\n",
              "    </tr>\n",
              "  </thead>\n",
              "  <tbody>\n",
              "    <tr>\n",
              "      <th>0</th>\n",
              "      <td>1.0</td>\n",
              "      <td>63.0</td>\n",
              "      <td>0</td>\n",
              "      <td>1</td>\n",
              "      <td>1</td>\n",
              "      <td>4</td>\n",
              "      <td>1</td>\n",
              "      <td>228.69</td>\n",
              "      <td>36.6</td>\n",
              "      <td>1</td>\n",
              "      <td>1</td>\n",
              "    </tr>\n",
              "    <tr>\n",
              "      <th>1</th>\n",
              "      <td>1.0</td>\n",
              "      <td>42.0</td>\n",
              "      <td>0</td>\n",
              "      <td>1</td>\n",
              "      <td>1</td>\n",
              "      <td>4</td>\n",
              "      <td>0</td>\n",
              "      <td>105.92</td>\n",
              "      <td>32.5</td>\n",
              "      <td>0</td>\n",
              "      <td>1</td>\n",
              "    </tr>\n",
              "    <tr>\n",
              "      <th>2</th>\n",
              "      <td>0.0</td>\n",
              "      <td>61.0</td>\n",
              "      <td>0</td>\n",
              "      <td>0</td>\n",
              "      <td>1</td>\n",
              "      <td>4</td>\n",
              "      <td>1</td>\n",
              "      <td>171.23</td>\n",
              "      <td>34.4</td>\n",
              "      <td>1</td>\n",
              "      <td>1</td>\n",
              "    </tr>\n",
              "    <tr>\n",
              "      <th>3</th>\n",
              "      <td>1.0</td>\n",
              "      <td>41.0</td>\n",
              "      <td>1</td>\n",
              "      <td>0</td>\n",
              "      <td>1</td>\n",
              "      <td>3</td>\n",
              "      <td>0</td>\n",
              "      <td>174.12</td>\n",
              "      <td>24.0</td>\n",
              "      <td>0</td>\n",
              "      <td>1</td>\n",
              "    </tr>\n",
              "    <tr>\n",
              "      <th>4</th>\n",
              "      <td>1.0</td>\n",
              "      <td>85.0</td>\n",
              "      <td>0</td>\n",
              "      <td>0</td>\n",
              "      <td>1</td>\n",
              "      <td>4</td>\n",
              "      <td>1</td>\n",
              "      <td>186.21</td>\n",
              "      <td>29.0</td>\n",
              "      <td>1</td>\n",
              "      <td>1</td>\n",
              "    </tr>\n",
              "  </tbody>\n",
              "</table>\n",
              "</div>\n",
              "    <div class=\"colab-df-buttons\">\n",
              "\n",
              "  <div class=\"colab-df-container\">\n",
              "    <button class=\"colab-df-convert\" onclick=\"convertToInteractive('df-1ac5262e-7222-446c-a083-a628c12bb090')\"\n",
              "            title=\"Convert this dataframe to an interactive table.\"\n",
              "            style=\"display:none;\">\n",
              "\n",
              "  <svg xmlns=\"http://www.w3.org/2000/svg\" height=\"24px\" viewBox=\"0 -960 960 960\">\n",
              "    <path d=\"M120-120v-720h720v720H120Zm60-500h600v-160H180v160Zm220 220h160v-160H400v160Zm0 220h160v-160H400v160ZM180-400h160v-160H180v160Zm440 0h160v-160H620v160ZM180-180h160v-160H180v160Zm440 0h160v-160H620v160Z\"/>\n",
              "  </svg>\n",
              "    </button>\n",
              "\n",
              "  <style>\n",
              "    .colab-df-container {\n",
              "      display:flex;\n",
              "      gap: 12px;\n",
              "    }\n",
              "\n",
              "    .colab-df-convert {\n",
              "      background-color: #E8F0FE;\n",
              "      border: none;\n",
              "      border-radius: 50%;\n",
              "      cursor: pointer;\n",
              "      display: none;\n",
              "      fill: #1967D2;\n",
              "      height: 32px;\n",
              "      padding: 0 0 0 0;\n",
              "      width: 32px;\n",
              "    }\n",
              "\n",
              "    .colab-df-convert:hover {\n",
              "      background-color: #E2EBFA;\n",
              "      box-shadow: 0px 1px 2px rgba(60, 64, 67, 0.3), 0px 1px 3px 1px rgba(60, 64, 67, 0.15);\n",
              "      fill: #174EA6;\n",
              "    }\n",
              "\n",
              "    .colab-df-buttons div {\n",
              "      margin-bottom: 4px;\n",
              "    }\n",
              "\n",
              "    [theme=dark] .colab-df-convert {\n",
              "      background-color: #3B4455;\n",
              "      fill: #D2E3FC;\n",
              "    }\n",
              "\n",
              "    [theme=dark] .colab-df-convert:hover {\n",
              "      background-color: #434B5C;\n",
              "      box-shadow: 0px 1px 3px 1px rgba(0, 0, 0, 0.15);\n",
              "      filter: drop-shadow(0px 1px 2px rgba(0, 0, 0, 0.3));\n",
              "      fill: #FFFFFF;\n",
              "    }\n",
              "  </style>\n",
              "\n",
              "    <script>\n",
              "      const buttonEl =\n",
              "        document.querySelector('#df-1ac5262e-7222-446c-a083-a628c12bb090 button.colab-df-convert');\n",
              "      buttonEl.style.display =\n",
              "        google.colab.kernel.accessAllowed ? 'block' : 'none';\n",
              "\n",
              "      async function convertToInteractive(key) {\n",
              "        const element = document.querySelector('#df-1ac5262e-7222-446c-a083-a628c12bb090');\n",
              "        const dataTable =\n",
              "          await google.colab.kernel.invokeFunction('convertToInteractive',\n",
              "                                                    [key], {});\n",
              "        if (!dataTable) return;\n",
              "\n",
              "        const docLinkHtml = 'Like what you see? Visit the ' +\n",
              "          '<a target=\"_blank\" href=https://colab.research.google.com/notebooks/data_table.ipynb>data table notebook</a>'\n",
              "          + ' to learn more about interactive tables.';\n",
              "        element.innerHTML = '';\n",
              "        dataTable['output_type'] = 'display_data';\n",
              "        await google.colab.output.renderOutput(dataTable, element);\n",
              "        const docLink = document.createElement('div');\n",
              "        docLink.innerHTML = docLinkHtml;\n",
              "        element.appendChild(docLink);\n",
              "      }\n",
              "    </script>\n",
              "  </div>\n",
              "\n",
              "\n",
              "<div id=\"df-577a4698-b155-4680-b21e-8706e3f292a7\">\n",
              "  <button class=\"colab-df-quickchart\" onclick=\"quickchart('df-577a4698-b155-4680-b21e-8706e3f292a7')\"\n",
              "            title=\"Suggest charts\"\n",
              "            style=\"display:none;\">\n",
              "\n",
              "<svg xmlns=\"http://www.w3.org/2000/svg\" height=\"24px\"viewBox=\"0 0 24 24\"\n",
              "     width=\"24px\">\n",
              "    <g>\n",
              "        <path d=\"M19 3H5c-1.1 0-2 .9-2 2v14c0 1.1.9 2 2 2h14c1.1 0 2-.9 2-2V5c0-1.1-.9-2-2-2zM9 17H7v-7h2v7zm4 0h-2V7h2v10zm4 0h-2v-4h2v4z\"/>\n",
              "    </g>\n",
              "</svg>\n",
              "  </button>\n",
              "\n",
              "<style>\n",
              "  .colab-df-quickchart {\n",
              "      --bg-color: #E8F0FE;\n",
              "      --fill-color: #1967D2;\n",
              "      --hover-bg-color: #E2EBFA;\n",
              "      --hover-fill-color: #174EA6;\n",
              "      --disabled-fill-color: #AAA;\n",
              "      --disabled-bg-color: #DDD;\n",
              "  }\n",
              "\n",
              "  [theme=dark] .colab-df-quickchart {\n",
              "      --bg-color: #3B4455;\n",
              "      --fill-color: #D2E3FC;\n",
              "      --hover-bg-color: #434B5C;\n",
              "      --hover-fill-color: #FFFFFF;\n",
              "      --disabled-bg-color: #3B4455;\n",
              "      --disabled-fill-color: #666;\n",
              "  }\n",
              "\n",
              "  .colab-df-quickchart {\n",
              "    background-color: var(--bg-color);\n",
              "    border: none;\n",
              "    border-radius: 50%;\n",
              "    cursor: pointer;\n",
              "    display: none;\n",
              "    fill: var(--fill-color);\n",
              "    height: 32px;\n",
              "    padding: 0;\n",
              "    width: 32px;\n",
              "  }\n",
              "\n",
              "  .colab-df-quickchart:hover {\n",
              "    background-color: var(--hover-bg-color);\n",
              "    box-shadow: 0 1px 2px rgba(60, 64, 67, 0.3), 0 1px 3px 1px rgba(60, 64, 67, 0.15);\n",
              "    fill: var(--button-hover-fill-color);\n",
              "  }\n",
              "\n",
              "  .colab-df-quickchart-complete:disabled,\n",
              "  .colab-df-quickchart-complete:disabled:hover {\n",
              "    background-color: var(--disabled-bg-color);\n",
              "    fill: var(--disabled-fill-color);\n",
              "    box-shadow: none;\n",
              "  }\n",
              "\n",
              "  .colab-df-spinner {\n",
              "    border: 2px solid var(--fill-color);\n",
              "    border-color: transparent;\n",
              "    border-bottom-color: var(--fill-color);\n",
              "    animation:\n",
              "      spin 1s steps(1) infinite;\n",
              "  }\n",
              "\n",
              "  @keyframes spin {\n",
              "    0% {\n",
              "      border-color: transparent;\n",
              "      border-bottom-color: var(--fill-color);\n",
              "      border-left-color: var(--fill-color);\n",
              "    }\n",
              "    20% {\n",
              "      border-color: transparent;\n",
              "      border-left-color: var(--fill-color);\n",
              "      border-top-color: var(--fill-color);\n",
              "    }\n",
              "    30% {\n",
              "      border-color: transparent;\n",
              "      border-left-color: var(--fill-color);\n",
              "      border-top-color: var(--fill-color);\n",
              "      border-right-color: var(--fill-color);\n",
              "    }\n",
              "    40% {\n",
              "      border-color: transparent;\n",
              "      border-right-color: var(--fill-color);\n",
              "      border-top-color: var(--fill-color);\n",
              "    }\n",
              "    60% {\n",
              "      border-color: transparent;\n",
              "      border-right-color: var(--fill-color);\n",
              "    }\n",
              "    80% {\n",
              "      border-color: transparent;\n",
              "      border-right-color: var(--fill-color);\n",
              "      border-bottom-color: var(--fill-color);\n",
              "    }\n",
              "    90% {\n",
              "      border-color: transparent;\n",
              "      border-bottom-color: var(--fill-color);\n",
              "    }\n",
              "  }\n",
              "</style>\n",
              "\n",
              "  <script>\n",
              "    async function quickchart(key) {\n",
              "      const quickchartButtonEl =\n",
              "        document.querySelector('#' + key + ' button');\n",
              "      quickchartButtonEl.disabled = true;  // To prevent multiple clicks.\n",
              "      quickchartButtonEl.classList.add('colab-df-spinner');\n",
              "      try {\n",
              "        const charts = await google.colab.kernel.invokeFunction(\n",
              "            'suggestCharts', [key], {});\n",
              "      } catch (error) {\n",
              "        console.error('Error during call to suggestCharts:', error);\n",
              "      }\n",
              "      quickchartButtonEl.classList.remove('colab-df-spinner');\n",
              "      quickchartButtonEl.classList.add('colab-df-quickchart-complete');\n",
              "    }\n",
              "    (() => {\n",
              "      let quickchartButtonEl =\n",
              "        document.querySelector('#df-577a4698-b155-4680-b21e-8706e3f292a7 button');\n",
              "      quickchartButtonEl.style.display =\n",
              "        google.colab.kernel.accessAllowed ? 'block' : 'none';\n",
              "    })();\n",
              "  </script>\n",
              "</div>\n",
              "    </div>\n",
              "  </div>\n"
            ]
          },
          "metadata": {},
          "execution_count": 5
        }
      ],
      "source": [
        "import pandas as pd\n",
        "\n",
        "data = pd.read_csv('stroke_data.csv')\n",
        "data.head(5)"
      ]
    },
    {
      "cell_type": "code",
      "execution_count": null,
      "metadata": {
        "colab": {
          "base_uri": "https://localhost:8080/"
        },
        "id": "tAR-mzR7zb7o",
        "outputId": "81a94172-7ed9-446d-a199-036fd1676b24"
      },
      "outputs": [
        {
          "output_type": "stream",
          "name": "stdout",
          "text": [
            "Banyaknya data :  40910\n",
            "Banyaknya kolom :  11\n"
          ]
        }
      ],
      "source": [
        "# Rincian dataset (banyak data dan kolom)\n",
        "\n",
        "print(\"Banyaknya data : \", data.shape[0])\n",
        "print(\"Banyaknya kolom : \", data.shape[1])"
      ]
    },
    {
      "cell_type": "code",
      "execution_count": null,
      "metadata": {
        "colab": {
          "base_uri": "https://localhost:8080/"
        },
        "id": "Wg9KDUKyzb7o",
        "outputId": "220cbf02-f81b-4c26-805c-91ef6da59dfc"
      },
      "outputs": [
        {
          "output_type": "stream",
          "name": "stdout",
          "text": [
            "1    20460\n",
            "0    20450\n",
            "Name: stroke, dtype: int64\n"
          ]
        }
      ],
      "source": [
        "kelas_counts = data['stroke'].value_counts()\n",
        "print(kelas_counts)"
      ]
    },
    {
      "cell_type": "code",
      "execution_count": null,
      "metadata": {
        "colab": {
          "base_uri": "https://localhost:8080/",
          "height": 900
        },
        "id": "BGIG25c7zb7p",
        "outputId": "8b5d2b7d-c844-4fdb-e5ae-85169d63784d"
      },
      "outputs": [
        {
          "output_type": "display_data",
          "data": {
            "text/plain": [
              "<Figure size 1000x1000 with 12 Axes>"
            ],
            "image/png": "[encoded data removed]"
          },
          "metadata": {}
        }
      ],
      "source": [
        "import matplotlib.pyplot as plt\n",
        "\n",
        "\n",
        "data.hist(figsize=(10, 10))\n",
        "plt.suptitle('Histograms of Features', x=0.5, y=0.95, ha='center', fontsize='x-large')\n",
        "plt.show()"
      ]
    },
    {
      "cell_type": "markdown",
      "metadata": {
        "id": "rxiLYPyxzb7p"
      },
      "source": [
        "## Mendeskripsikan setiap fitur\n",
        "\n",
        "mendeskripsikan fitur apa saja yang ada pada fitur dataset stroke"
      ]
    },
    {
      "cell_type": "code",
      "execution_count": null,
      "metadata": {
        "colab": {
          "base_uri": "https://localhost:8080/"
        },
        "id": "o9xc25Cyzb7q",
        "outputId": "d3ffea2e-f8f6-4291-c1c4-91f0e3c17890"
      },
      "outputs": [
        {
          "output_type": "execute_result",
          "data": {
            "text/plain": [
              "Index(['sex', 'age', 'hypertension', 'heart_disease', 'ever_married',\n",
              "       'work_type', 'Residence_type', 'avg_glucose_level', 'bmi',\n",
              "       'smoking_status', 'stroke'],\n",
              "      dtype='object')"
            ]
          },
          "metadata": {},
          "execution_count": 9
        }
      ],
      "source": [
        "data.columns"
      ]
    },
    {
      "cell_type": "markdown",
      "metadata": {
        "id": "_5-fUa9Czb7q"
      },
      "source": [
        "### Tipe data"
      ]
    },
    {
      "cell_type": "code",
      "execution_count": null,
      "metadata": {
        "colab": {
          "base_uri": "https://localhost:8080/"
        },
        "id": "Z8yT19gtzb7q",
        "outputId": "3c1524a3-65e2-4d16-cc40-cdbebd30d314"
      },
      "outputs": [
        {
          "output_type": "execute_result",
          "data": {
            "text/plain": [
              "sex                  float64\n",
              "age                  float64\n",
              "hypertension           int64\n",
              "heart_disease          int64\n",
              "ever_married           int64\n",
              "work_type              int64\n",
              "Residence_type         int64\n",
              "avg_glucose_level    float64\n",
              "bmi                  float64\n",
              "smoking_status         int64\n",
              "stroke                 int64\n",
              "dtype: object"
            ]
          },
          "metadata": {},
          "execution_count": 10
        }
      ],
      "source": [
        "data.dtypes"
      ]
    },
    {
      "cell_type": "markdown",
      "metadata": {
        "id": "-hSwtCNNzb7r"
      },
      "source": [
        "Berikut Macam - Macam Data yang ada pada data ini.   \n",
        "\n",
        "1. Tipe nominal   \n",
        "    - memiliki value 1 yang melambangkan ya dan 0 yang melambangkan tidak.\n",
        "        > Pada data ini mencakup fitur : *'Classification'*\n",
        "    - mencakup tipe data numeric.\n",
        "        > yakni pada fitur *'Age', 'BMI', 'Glucose', 'Insulin', 'HOMA', 'Leptin', 'Adiponectin',\n",
        "       'Resistin', 'MCP.1'*"
      ]
    },
    {
      "cell_type": "markdown",
      "metadata": {
        "id": "Y1xfs7znzb7r"
      },
      "source": [
        "### Deskripsi data"
      ]
    },
    {
      "cell_type": "markdown",
      "metadata": {
        "id": "TRygO7Tazb7r"
      },
      "source": [
        "penjelasan setiap fitur:\n",
        "- Age (Usia): Ini adalah usia pasien dalam tahun. (tahun/year)\n",
        "\n",
        "- BMI (Body Mass Index): Ini adalah indeks massa tubuh (BMI) pasien, yang mengukur hubungan antara berat badan dan tinggi badan. Nilai ini digunakan untuk mengevaluasi status berat badan pasien. (Kg/m^2)\n",
        "\t- Kurang dari 18,5 = badan kurus/kurang\n",
        "\t- 18,5 - 22,9 = badan ideal/normal\n",
        "\t- 23 - 29,9 = badan gemuk/berlebih (cenderung obesitas)\n",
        "\t- Lebih dari 30 = obesitas\n",
        "  - Untuk cara pengukuran dilakukan (berat badan)/(tinggi badan)^2\n",
        "\n",
        "- Glucose (Glukosa): Ini adalah konsentrasi glukosa dalam darah pasien, yang diukur dalam mg/dL. Kadar glukosa darah sering digunakan untuk mengawasi fungsi metabolisme gula dalam tubuh.(Mg/dl)\n",
        "\t-\tlebih dari 100 mg/dL akurasi bisa berbeda ± 15 mg/dL\n",
        "\t-  kurang dari 100 mg/dL akurasi bisa berbeda ± 15%\n",
        "\n",
        "- Insulin: Ini adalah kadar insulin dalam darah pasien, yang diukur dalam μU/mL. Insulin adalah hormon yang berperan dalam mengendalikan kadar glukosa darah.(µU/Ml)\n",
        "\n",
        "- HOMA (Homeostasis Model Assessment): Ini adalah nilai HOMA yang digunakan untuk mengukur resistensi insulin dan fungsi sel beta pankreas dalam menghasilkan insulin. HOMA adalah perkiraan berdasarkan kadar glukosa dan insulin dalam darah. (%)\n",
        "\n",
        "- Leptin: Leptin adalah hormon yang diproduksi oleh sel lemak dalam tubuh. Konsentrasi leptin dalam darah dapat berhubungan dengan berat badan dan metabolisme lemak. (ng/Ml)\n",
        "\n",
        "- Adiponectin: Adiponectin adalah hormon yang diproduksi oleh jaringan lemak dan berperan dalam regulasi metabolisme lemak dan sensitivitas insulin. (µg/Ml)\n",
        "\n",
        "- Resistin: Resistin adalah protein yang diproduksi oleh jaringan lemak dan berperan dalam regulasi peradangan dan resistensi insulin. (ng/Ml)\n",
        "\n",
        "- MCP.1 (Monocyte Chemoattractant Protein-1): MCP.1 adalah protein yang berperan dalam mengarahkan sel darah putih (monosit) ke daerah peradangan dalam tubuh. Ini dapat menjadi indikator peradangan dalam tubuh. (pg/dl)\n",
        "\n",
        "- Classification (Klasifikasi): Ini adalah atribut target yang digunakan untuk mengklasifikasikan pasien. (1: Jinak, 2: Ganas)\n",
        "\n"
      ]
    },
    {
      "cell_type": "markdown",
      "metadata": {
        "id": "gH8Mchg2zb7s"
      },
      "source": [
        "## Mengidentifikasi missing value"
      ]
    },
    {
      "cell_type": "markdown",
      "metadata": {
        "id": "zWHBBm0yzb7s"
      },
      "source": [
        "### Missing value\n",
        "\n",
        "mencari missing value atau data yang tidak bernilai pada dataset stroke\n",
        "\n",
        "- data.isna(): Fungsi ini menghasilkan DataFrame yang memiliki struktur yang sama dengan data, tetapi dengan nilai boolean (True atau False) yang menunjukkan apakah setiap sel dalam DataFrame data adalah nilai yang hilang atau tidak. Nilai True menunjukkan bahwa sel tersebut merupakan nilai yang hilang, sedangkan nilai False menunjukkan bahwa sel tersebut memiliki nilai.\n",
        "- .any(): Metode ini kemudian digunakan untuk menerapkan fungsi any ke setiap kolom DataFrame hasil dari data.isna(). Ini menghasilkan Seri (Series) dengan indeks berupa nama kolom, dan nilai True atau False untuk setiap kolom, menunjukkan apakah kolom tersebut memiliki setidaknya satu nilai yang hilang atau tidak."
      ]
    },
    {
      "cell_type": "code",
      "execution_count": null,
      "metadata": {
        "colab": {
          "base_uri": "https://localhost:8080/"
        },
        "id": "L5fw0kpTzb7s",
        "outputId": "b08cf9d4-ef01-443e-9d39-456999857f1c"
      },
      "outputs": [
        {
          "output_type": "stream",
          "name": "stdout",
          "text": [
            "Apakah ada nilai yang hilang dalam setiap kolom:\n",
            "sex                  False\n",
            "age                  False\n",
            "hypertension         False\n",
            "heart_disease        False\n",
            "ever_married         False\n",
            "work_type            False\n",
            "Residence_type       False\n",
            "avg_glucose_level    False\n",
            "bmi                  False\n",
            "smoking_status       False\n",
            "stroke               False\n",
            "dtype: bool\n"
          ]
        }
      ],
      "source": [
        "# Menghitung apakah ada nilai yang hilang dalam setiap kolom\n",
        "missing_values = data.isna().any()\n",
        "\n",
        "# Menampilkan hasil\n",
        "print(\"Apakah ada nilai yang hilang dalam setiap kolom:\")\n",
        "print(missing_values)"
      ]
    },
    {
      "cell_type": "markdown",
      "metadata": {
        "id": "ut6AFxUJzb7s"
      },
      "source": [
        "Noted : tidak ada *missing value* pada data"
      ]
    },
    {
      "cell_type": "markdown",
      "metadata": {
        "id": "EF4CHbqrzb7t"
      },
      "source": [
        "### Duplikat data\n",
        "\n",
        "mencari duplikat data yang terjadi pada dataset stroke dengan menggunakan\n",
        "\n",
        "- data.duplicated(): Fungsi ini digunakan untuk menghasilkan serangkaian nilai boolean yang menunjukkan apakah setiap baris dalam DataFrame data adalah duplikat atau tidak. Nilai True menunjukkan bahwa baris tersebut merupakan duplikat, sementara nilai False menunjukkan bahwa baris tersebut tidak duplikat.\n",
        "- .sum(): Metode ini kemudian digunakan untuk menjumlahkan nilai-nilai boolean yang dihasilkan oleh duplicated(). Jika suatu baris adalah duplikat, nilai booleannya adalah True yang dihitung sebagai 1, dan jika bukan duplikat, nilai booleannya adalah False yang dihitung sebagai 0."
      ]
    },
    {
      "cell_type": "code",
      "execution_count": null,
      "metadata": {
        "colab": {
          "base_uri": "https://localhost:8080/"
        },
        "id": "QOcvO000zb7t",
        "outputId": "079dec8d-b23e-4dcd-8ff3-297cf7b7ddb5"
      },
      "outputs": [
        {
          "output_type": "stream",
          "name": "stdout",
          "text": [
            "Jumlah data yang duplikat: 1\n"
          ]
        }
      ],
      "source": [
        "jumlah_duplikat = data.duplicated().sum()\n",
        "\n",
        "# Menampilkan jumlah data yang duplikat\n",
        "print(\"Jumlah data yang duplikat:\", jumlah_duplikat)"
      ]
    },
    {
      "cell_type": "markdown",
      "metadata": {
        "id": "Ra9ZHQk2zb7t"
      },
      "source": [
        "Noted : terdapat beberapa baris data yang sama, sehingga data tersebut harus dihilangkan untuk menghindari adanya data yang redundan"
      ]
    },
    {
      "cell_type": "markdown",
      "metadata": {
        "id": "7s3Dzjyezb7t"
      },
      "source": [
        "## Mengidentifikasi Outlier\n",
        "\n",
        "Mencari data outlier pada dataset adalah langkah penting dalam analisis data untuk mengidentifikasi nilai-nilai yang berbeda secara signifikan dari pola umum dataset. Outlier adalah nilai yang jauh dari nilai-nilai lainnya dan dapat memiliki dampak besar pada hasil analisis statistik. Pada dataset kali ini saya menggunakan Local Outlier Factor untuk mencari outlier yang ada pada dataset stroke tersebut."
      ]
    },
    {
      "cell_type": "markdown",
      "metadata": {
        "id": "-eim_XSqzb7u"
      },
      "source": [
        "### Local Outlier Factor\n",
        "\n",
        "- Pengertian Local Outlier Factor(LOF):\n",
        "\n",
        "LOF mengukur sejauh mana suatu observasi berbeda dari tetangga-tetangganya dalam hal kepadatan. Outlier diidentifikasi berdasarkan perbandingan antara kepadatan observasi tersebut dan kepadatan tetangganya. Jika suatu observasi memiliki LOF yang tinggi, maka itu dianggap sebagai outlier.\n",
        "\n",
        "- Langkah-langkah Local Outlier Factor (LOF):\n",
        "1. Hitung Jarak Antar Data\n",
        "dimana jarak yang dihitung adalah jarak titik yang akan dievaluasi dengan semua titik didalam satu baris. Perhitungan Jarak dilakukan menggunakan perhitungan jarak euclidean.\n",
        "\n",
        "    $$\n",
        "    \\text{distance}(p, q) = \\sqrt{\\sum_{i=1}^{n}(p_i - q_i)^2}\n",
        "    $$\n",
        "    dimana :\n",
        "    - p = titik yang akan dievaluasi\n",
        "    - q = titik selain titik p\n",
        "\n",
        "2. Hitung Kepadatan Lokal\n",
        "Setelah jarak diketahui, maka selanjutnya kepadatan lokal dari titik data tersebut perlu dihitung. Kepadatan lokal dapat dihitung dengan membandingkan jumlah titik-titik tetangga dalam jarak tertentu (radius) terhadap titik data yang sedang dievaluasi.\n",
        "\n",
        "    $$\n",
        "    \\text{Local Density}(p) = \\frac{\\text{jumlah tetangga dalam radius}}{\\text{jumlah total data}}\n",
        "    $$\n",
        "\n",
        "3. Hitung Local Reachability Density(LRD)\n",
        "Hitung kepadatan jarak (reachability distance) dari titik data (p) terhadap tetangganya (q).\n",
        "Local Reachability Density dari titik p terhadap tetangga q dihitung sebagai rata-rata dari jarak antara q dan p terhadap tetangga q:\n",
        "\n",
        "    $$\n",
        "    \\text{reachdist}(p, q) = \\max(\\text{distance}(p, q), \\text{radius})\n",
        "    $$\n",
        "\n",
        "    $$\n",
        "    \\text{Local Reachability Density}(p) = \\frac{1}{\\text{jumlah tetangga}} \\sum_{q \\in N_{\\text{radius}}(p)} \\frac{\\text{reachdist}(p, q)}{\\text{density}(q)}\n",
        "    $$\n",
        "    dimana:\n",
        "    - N radius(p) adalah himpunan tetangga dalam radius tertentu radius dari titik p.\n",
        "    - density(q) adalah kepadatan lokal dari tetangga q.\n",
        "\n",
        "4. Hitung Nilai LOF\n",
        "LOF dari suatu titik data (p) dihitung sebagai rasio dari rata-rata Local Reachability Density dari tetangganya terhadap kepadatan lokalnya sendiri:\n",
        "    $$\n",
        "    \\text{LOF}(p) = \\frac{1}{\\text{jumlah tetangga}} \\sum_{q \\in N_{\\text{radius}}(p)} \\frac{\\text{Local Reachability Density}(q)}{\\text{Local Reachability Density}(p)}\n",
        "    $$\n",
        "\n",
        "- contoh kasus penggunaan outlier\n",
        "\n",
        "| X   | Y  |\n",
        "| --- | -- |\n",
        "| 2   | 6  |\n",
        "| 4   | 7  |\n",
        "| 6   | 9  |\n",
        "| 8   | 5  |\n",
        "| 10  | 12 |\n",
        "\n",
        "Sekarang, kita akan mengikuti langkah-langkah yang sama untuk menghitung Local Outlier Factor (LOF):\n",
        "\n",
        "Langkah 1: Hitung Jarak Antar Data dengan Radius 5\n",
        "| X  | Y  | Jarak            |\n",
        "|----|----|------------------|\n",
        "| 2  | 6  | 3.16 ; 3.61 ; 4.24|\n",
        "| 4  | 7  | 2.24 ; 2.83 ; 3.61|\n",
        "| 6  | 9  | 2.24 ; 3.61 ; 4.47|\n",
        "| 8  | 5  | 4.47 ; 5.1        |\n",
        "| 10 | 12 | 3.61 ; 5.83       |\n",
        "\n",
        "Langkah 2: Hitung Jumlah Tetangga dalam Radius 5\n",
        "| X   | Y   | Jumlah Tetangga |\n",
        "| --- | --- | --------------- |\n",
        "| 2   | 6   | 3               |\n",
        "| 4   | 7   | 3               |\n",
        "| 6   | 9   | 3               |\n",
        "| 8   | 5   | 2               |\n",
        "| 10  | 12  | 2               |\n",
        "\n",
        "Langkah 3: Hitung Local Reachability Density\n",
        "| X  | Y  | Jarak                                     |\n",
        "|----|----|-------------------------------------------|\n",
        "| 2  | 6  | (3.16 + 3.61 + 4.24) / 3 = 3.67           |\n",
        "| 4  | 7  | (2.24 + 2.83 + 3.61) / 3 = 2.89           |\n",
        "| 6  | 9  | (2.24 + 3.61 + 4.47) / 3 = 3.44           |\n",
        "| 8  | 5  | (4.47 + 5.1) / 2 = 4.79                   |\n",
        "| 10 | 12 | (3.61 + 5.83) / 2 = 4.72                  |\n",
        "\n",
        "Langkah 4: Menghitung Nilai LOF Data\n",
        "| X  | Y  | LOF                   |\n",
        "|----|----|-----------------------|\n",
        "| 2  | 6  | 1.28                  |\n",
        "| 4  | 7  | 1.59                  |\n",
        "| 6  | 9  | 1.20                  |\n",
        "| 8  | 5  | 0.93                  |\n",
        "| 10 | 12 | 0.84                  |\n",
        "\n",
        "Dengan begitu, nilai yang kemungkinan menjadi outlier adalah baris 4 dan baris 5, karena nilai LOF-nya lebih rendah dari 1, yang menunjukkan bahwa kepadatan lokal titik tersebut lebih tinggi daripada rata-rata kepadatan lokal tetangganya.\n",
        "\n",
        "\n",
        "\n",
        "\n",
        "\n",
        "\n",
        "\n",
        "\n"
      ]
    },
    {
      "cell_type": "code",
      "execution_count": null,
      "metadata": {
        "colab": {
          "base_uri": "https://localhost:8080/"
        },
        "id": "znQ2_2Eizb7v",
        "outputId": "b37ba7c4-c2cd-4c76-c97d-ba169ea55d83"
      },
      "outputs": [
        {
          "output_type": "stream",
          "name": "stdout",
          "text": [
            "Indeks outlier: [ 9277  9505 11716 11939 14856 15146 15641 15714 15891 16663 17337 17481\n",
            " 18783 20465 20475 20520 20609 20659 20692 20724 20934 21025 21030 21166\n",
            " 21192 21277 21360 21377 21392 21403 21573 21760 21835 21861 22013 22054\n",
            " 22071 22124 22180 22215 22342 22443 22459 22462 22521 22758 22821 22910\n",
            " 22987 23080 23093 23266 23392 23615 23648 23710 23720 23843 23852 23902\n",
            " 23935 23966 24026 24175 24266 24270 24431 24596 24627 24638 24688 24807\n",
            " 24812 24914 24994 25064 25095 25170 25247 25288 25305 25414 25449 25676\n",
            " 25692 25695 25868 25924 25989 26073 26101 26140 26307 26320 26491 26837\n",
            " 26932 26942 27120 27153 27184 27389 27412 27482 27616 27640 27671 27724\n",
            " 27804 27836 27846 27896 28015 28020 28199 28231 28268 28273 28299 28448\n",
            " 28489 28614 28873 28889 28892 28951 29152 29180 29327 29404 29497 29677\n",
            " 29801 29974 30009 30019 30045 30111 30241 30300 30332 30563 30653 30658\n",
            " 30815 30977 31006 31044 31065 31181 31186 31358 31425 31430 31455 31535\n",
            " 31601 31641 31658 31766 31800 32020 32036 32039 32209 32329 32414 32442\n",
            " 32479 32552 32643 32656 32820 33115 33160 33261 33389 33439 33470 33705\n",
            " 33794 33799 33933 33957 34116 34148 34159 34189 34209 34325 34500 34569\n",
            " 34737 34777 34794 34895 34928 34939 35149 35165 35168 35331 35551 35590\n",
            " 35609 35753 35766 35921 35931 36272 36357 36366 36494 36544 36575 36606\n",
            " 36663 36801 36888 36893 37046 37125 37206 37237 37248 37276 37409 37414\n",
            " 37564 37589 37661 37684 37759 37828 37869 37882 37985 38015 38232 38246\n",
            " 38412 38417 38534 38643 38678 38740 38838 38849 39013 39335 39339 39433\n",
            " 39443 39562 39620 39648 39682 39876 39956 39961 40117 40276 40304 40314\n",
            " 40364 40478 40483 40654 40716 40719 40743]\n",
            "Indeks outlier: 271\n"
          ]
        }
      ],
      "source": [
        "import numpy as np\n",
        "from sklearn.ensemble import IsolationForest\n",
        "from sklearn.neighbors import LocalOutlierFactor\n",
        "# Membuat model LOF\n",
        "clf = LocalOutlierFactor(n_neighbors=20)  # Jumlah tetangga yang digunakan\n",
        "outlier_scores = clf.fit_predict(data)\n",
        "\n",
        "# Menampilkan indeks outlier\n",
        "outlier_indices = np.where(outlier_scores == -1)[0]\n",
        "print(\"Indeks outlier:\",outlier_indices)\n",
        "print(\"Indeks outlier:\",len( outlier_indices))"
      ]
    },
    {
      "cell_type": "markdown",
      "metadata": {
        "id": "l1kfEy6zzb7v"
      },
      "source": [
        "Noted : terdapat banyak data yang memiliki outlier, sehingga data tersebut harus dihilangkan"
      ]
    },
    {
      "cell_type": "markdown",
      "metadata": {
        "id": "OauxWvGgzb7w"
      },
      "source": [
        "## Mengidentifikasi Jumlah Data\n",
        "\n",
        "untuk mengindentifikasi jumlah data pada fitur classification atau data target pada dataset stroke\n",
        "- value_counts(): Ini adalah metode dari pandas yang digunakan untuk menghitung frekuensi kemunculan setiap nilai unik dalam kolom 'stroke'. Dengan kata lain, ini menghitung berapa kali setiap nilai muncul dalam kolom tersebut."
      ]
    },
    {
      "cell_type": "code",
      "execution_count": null,
      "metadata": {
        "colab": {
          "base_uri": "https://localhost:8080/"
        },
        "id": "oSoIiQCMzb7w",
        "outputId": "57bbe8fe-696b-4e86-dd6a-ac0442322215"
      },
      "outputs": [
        {
          "output_type": "stream",
          "name": "stdout",
          "text": [
            "Jumlah data pada tanpa outlier:\n",
            "1    20460\n",
            "0    20450\n",
            "Name: stroke, dtype: int64\n"
          ]
        }
      ],
      "source": [
        "target_no_outliers = data['stroke'].value_counts()\n",
        "\n",
        "# Menampilkan jumlah target pada data tanpa outlier\n",
        "print(\"Jumlah data pada tanpa outlier:\")\n",
        "print(target_no_outliers)"
      ]
    },
    {
      "cell_type": "markdown",
      "metadata": {
        "id": "6hRFE29vzb7w"
      },
      "source": [
        "## Eksplorasi Data\n",
        "\n",
        "Mengindentifikasi fitur - fitur yang ada pada dataset kstroke dengan tujuan menggunakan seleksi fitur dan menampilkan grafik"
      ]
    },
    {
      "cell_type": "markdown",
      "metadata": {
        "id": "kzuDXBlUzb7w"
      },
      "source": [
        "### Fitur beserta presentase kepentingannya\n",
        "\n",
        "mencari skor pada setiap fitur dengan menggunakan metode SelectKBeast dengan mencari nilai mutual information dari setiap fitur.\n",
        "\n",
        "- MUTUAL INFORMATION\n",
        "\n",
        "Mutual information (MI) adalah metrik yang berguna dalam pemilihan fitur karena mengukur seberapa banyak informasi yang saling terkait antara fitur (variabel independen) dengan variabel target (variabel dependen). Dalam konteks pemilihan fitur, kita ingin mempertahankan fitur-fitur yang memiliki hubungan yang kuat atau tinggi dalam menjelaskan variabel target.\n",
        "\n",
        "Rumus Mutual Information (MI) between X and Y:\n",
        "\n",
        "$$\n",
        "\\text{MI}(X;Y) = \\sum_{x \\in X} \\sum_{y \\in Y} p(x, y) \\log \\left(\\frac{p(x, y)}{p(x) \\cdot p(y)}\\right)\n",
        "$$\n",
        "\n",
        "\n",
        "Dimana:\n",
        "- MI(X;Y) adalah mutual information antara variabel X dan Y.\n",
        "- p(x,y) adalah probabilitas bersama dari X=x dan Y=y.\n",
        "- p(x) adalah probabilitas margina X=x.\n",
        "- p(y) adalah probabilitas margina Y=y.\n",
        "\n",
        "\n"
      ]
    },
    {
      "cell_type": "code",
      "execution_count": null,
      "metadata": {
        "colab": {
          "base_uri": "https://localhost:8080/"
        },
        "id": "sMsOO1Vmzb7x",
        "outputId": "c7a0b8dd-f611-4d34-ab64-1dad1fff987c"
      },
      "outputs": [
        {
          "output_type": "stream",
          "name": "stdout",
          "text": [
            "Fitur 1: sex, Skor: 0.013562376772947804\n",
            "Fitur 2: age, Skor: 0.021296479579730354\n",
            "Fitur 3: hypertension, Skor: 0.03730700528547981\n",
            "Fitur 4: heart_disease, Skor: 0.029819423054275873\n",
            "Fitur 5: ever_married, Skor: 0.0224066250250452\n",
            "Fitur 6: work_type, Skor: 0.017423133623441167\n",
            "Fitur 7: Residence_type, Skor: 0.0025211869382599783\n",
            "Fitur 8: avg_glucose_level, Skor: 0.6674382932126245\n",
            "Fitur 9: bmi, Skor: 0.23145093081587143\n",
            "Fitur 10: smoking_status, Skor: 0.0036508399419079574\n"
          ]
        }
      ],
      "source": [
        "from sklearn.feature_selection import SelectKBest, mutual_info_classif\n",
        "from sklearn.model_selection import train_test_split\n",
        "\n",
        "# Memisahkan kolom fitur dan target\n",
        "fitur = data.drop(columns=['stroke'])\n",
        "target = data['stroke']\n",
        "\n",
        "# Buat objek SelectKBest dengan mutual_info_classif sebagai fungsi skor\n",
        "k_best = SelectKBest(score_func=mutual_info_classif, k='all')  # 'all' berarti akan mempertahankan semua fitur\n",
        "\n",
        "# Hitung skor fitur\n",
        "k_best.fit(fitur, target)\n",
        "scores = k_best.scores_\n",
        "\n",
        "# Dapatkan nama fitur dari kolom data Anda\n",
        "fitur_names = fitur.columns\n",
        "\n",
        "# Tampilkan skor fitur berserta namanya\n",
        "for i, (score, fitur_name) in enumerate(zip(scores, fitur_names), start=1):  # Gunakan start=1 agar indeks dimulai dari 1\n",
        "    print(f\"Fitur {i}: {fitur_name}, Skor: {score}\")\n"
      ]
    },
    {
      "cell_type": "markdown",
      "metadata": {
        "id": "5BJLim46zb7x"
      },
      "source": [
        "### Grafik fitur dan tingkat pentingnya"
      ]
    },
    {
      "cell_type": "code",
      "execution_count": null,
      "metadata": {
        "colab": {
          "base_uri": "https://localhost:8080/",
          "height": 517
        },
        "id": "phnVr3whzb7y",
        "outputId": "3e30f1be-7f9d-487c-9318-3ff0640240e5"
      },
      "outputs": [
        {
          "output_type": "display_data",
          "data": {
            "text/plain": [
              "<Figure size 1800x600 with 1 Axes>"
            ],
            "image/png": "[encoded data removed]"
          },
          "metadata": {}
        }
      ],
      "source": [
        "import matplotlib.pyplot as plt\n",
        "\n",
        "# Tampilkan skor fitur dalam grafik\n",
        "plt.figure(figsize=(18, 6))\n",
        "plt.bar(fitur_names, scores)\n",
        "plt.xlabel(\"Nama Fitur\")\n",
        "plt.ylabel(\"Skor Fitur\")\n",
        "plt.title(\"Skor Fitur SelectKBest\")\n",
        "plt.xticks(rotation=90)\n",
        "plt.show()"
      ]
    },
    {
      "cell_type": "markdown",
      "metadata": {
        "id": "my0ZM9Tkzb7y"
      },
      "source": [
        "**Kesimpulan :**\n",
        "\n",
        "1. Data tidak memiliki _missing values_\n",
        "2. Data memiliki banyak data redundan\n",
        "3. Data memiliki banyak outlier\n",
        "4. Perbandingan proposi data tiap target tidak beda jauh jadi tidak perlu untuk melakukan penyeimbangan data\n",
        "5. Hasil skoring fitur masih menggunakan data kotor sehingga perlu difilter kembali"
      ]
    },
    {
      "cell_type": "markdown",
      "metadata": {
        "id": "avk0Fah2zb7y"
      },
      "source": [
        "# 3. DATA PREPROCESSING"
      ]
    },
    {
      "cell_type": "markdown",
      "metadata": {
        "id": "OMdnIfq8zb7y"
      },
      "source": [
        "Setelah memahami data, akan dilakukan tahap preprocessing untuk menangani masalah pada data yang sudah didefinisikan pada data understanding, yakni:\n",
        "1. Menghapus Data Duplikat\n",
        "2. Menghapus Outlier\n",
        "\n",
        "Setelah data siap, akan dilakukan :\n",
        "1. Skoring tiap fitur kembali\n",
        "2. Normalisasi Data\n",
        "3. Eksplorasi Model"
      ]
    },
    {
      "cell_type": "markdown",
      "metadata": {
        "id": "KioOYmL3zb70"
      },
      "source": [
        "## Load Dataset\n",
        "\n",
        "meng import/memanggil dataset stroke"
      ]
    },
    {
      "cell_type": "code",
      "execution_count": null,
      "metadata": {
        "colab": {
          "base_uri": "https://localhost:8080/",
          "height": 206
        },
        "id": "iCO6LKX6zb70",
        "outputId": "8c580a12-d62e-42f0-d543-82e64827476f"
      },
      "outputs": [
        {
          "output_type": "execute_result",
          "data": {
            "text/plain": [
              "   sex   age  hypertension  heart_disease  ever_married  work_type  \\\n",
              "0  1.0  63.0             0              1             1          4   \n",
              "1  1.0  42.0             0              1             1          4   \n",
              "2  0.0  61.0             0              0             1          4   \n",
              "3  1.0  41.0             1              0             1          3   \n",
              "4  1.0  85.0             0              0             1          4   \n",
              "\n",
              "   Residence_type  avg_glucose_level   bmi  smoking_status  stroke  \n",
              "0               1             228.69  36.6               1       1  \n",
              "1               0             105.92  32.5               0       1  \n",
              "2               1             171.23  34.4               1       1  \n",
              "3               0             174.12  24.0               0       1  \n",
              "4               1             186.21  29.0               1       1  "
            ],
            "text/html": [
              "\n",
              "  <div id=\"df-4f497084-8fc9-402b-90ab-1d47592b12a6\" class=\"colab-df-container\">\n",
              "    <div>\n",
              "<style scoped>\n",
              "    .dataframe tbody tr th:only-of-type {\n",
              "        vertical-align: middle;\n",
              "    }\n",
              "\n",
              "    .dataframe tbody tr th {\n",
              "        vertical-align: top;\n",
              "    }\n",
              "\n",
              "    .dataframe thead th {\n",
              "        text-align: right;\n",
              "    }\n",
              "</style>\n",
              "<table border=\"1\" class=\"dataframe\">\n",
              "  <thead>\n",
              "    <tr style=\"text-align: right;\">\n",
              "      <th></th>\n",
              "      <th>sex</th>\n",
              "      <th>age</th>\n",
              "      <th>hypertension</th>\n",
              "      <th>heart_disease</th>\n",
              "      <th>ever_married</th>\n",
              "      <th>work_type</th>\n",
              "      <th>Residence_type</th>\n",
              "      <th>avg_glucose_level</th>\n",
              "      <th>bmi</th>\n",
              "      <th>smoking_status</th>\n",
              "      <th>stroke</th>\n",
              "    </tr>\n",
              "  </thead>\n",
              "  <tbody>\n",
              "    <tr>\n",
              "      <th>0</th>\n",
              "      <td>1.0</td>\n",
              "      <td>63.0</td>\n",
              "      <td>0</td>\n",
              "      <td>1</td>\n",
              "      <td>1</td>\n",
              "      <td>4</td>\n",
              "      <td>1</td>\n",
              "      <td>228.69</td>\n",
              "      <td>36.6</td>\n",
              "      <td>1</td>\n",
              "      <td>1</td>\n",
              "    </tr>\n",
              "    <tr>\n",
              "      <th>1</th>\n",
              "      <td>1.0</td>\n",
              "      <td>42.0</td>\n",
              "      <td>0</td>\n",
              "      <td>1</td>\n",
              "      <td>1</td>\n",
              "      <td>4</td>\n",
              "      <td>0</td>\n",
              "      <td>105.92</td>\n",
              "      <td>32.5</td>\n",
              "      <td>0</td>\n",
              "      <td>1</td>\n",
              "    </tr>\n",
              "    <tr>\n",
              "      <th>2</th>\n",
              "      <td>0.0</td>\n",
              "      <td>61.0</td>\n",
              "      <td>0</td>\n",
              "      <td>0</td>\n",
              "      <td>1</td>\n",
              "      <td>4</td>\n",
              "      <td>1</td>\n",
              "      <td>171.23</td>\n",
              "      <td>34.4</td>\n",
              "      <td>1</td>\n",
              "      <td>1</td>\n",
              "    </tr>\n",
              "    <tr>\n",
              "      <th>3</th>\n",
              "      <td>1.0</td>\n",
              "      <td>41.0</td>\n",
              "      <td>1</td>\n",
              "      <td>0</td>\n",
              "      <td>1</td>\n",
              "      <td>3</td>\n",
              "      <td>0</td>\n",
              "      <td>174.12</td>\n",
              "      <td>24.0</td>\n",
              "      <td>0</td>\n",
              "      <td>1</td>\n",
              "    </tr>\n",
              "    <tr>\n",
              "      <th>4</th>\n",
              "      <td>1.0</td>\n",
              "      <td>85.0</td>\n",
              "      <td>0</td>\n",
              "      <td>0</td>\n",
              "      <td>1</td>\n",
              "      <td>4</td>\n",
              "      <td>1</td>\n",
              "      <td>186.21</td>\n",
              "      <td>29.0</td>\n",
              "      <td>1</td>\n",
              "      <td>1</td>\n",
              "    </tr>\n",
              "  </tbody>\n",
              "</table>\n",
              "</div>\n",
              "    <div class=\"colab-df-buttons\">\n",
              "\n",
              "  <div class=\"colab-df-container\">\n",
              "    <button class=\"colab-df-convert\" onclick=\"convertToInteractive('df-4f497084-8fc9-402b-90ab-1d47592b12a6')\"\n",
              "            title=\"Convert this dataframe to an interactive table.\"\n",
              "            style=\"display:none;\">\n",
              "\n",
              "  <svg xmlns=\"http://www.w3.org/2000/svg\" height=\"24px\" viewBox=\"0 -960 960 960\">\n",
              "    <path d=\"M120-120v-720h720v720H120Zm60-500h600v-160H180v160Zm220 220h160v-160H400v160Zm0 220h160v-160H400v160ZM180-400h160v-160H180v160Zm440 0h160v-160H620v160ZM180-180h160v-160H180v160Zm440 0h160v-160H620v160Z\"/>\n",
              "  </svg>\n",
              "    </button>\n",
              "\n",
              "  <style>\n",
              "    .colab-df-container {\n",
              "      display:flex;\n",
              "      gap: 12px;\n",
              "    }\n",
              "\n",
              "    .colab-df-convert {\n",
              "      background-color: #E8F0FE;\n",
              "      border: none;\n",
              "      border-radius: 50%;\n",
              "      cursor: pointer;\n",
              "      display: none;\n",
              "      fill: #1967D2;\n",
              "      height: 32px;\n",
              "      padding: 0 0 0 0;\n",
              "      width: 32px;\n",
              "    }\n",
              "\n",
              "    .colab-df-convert:hover {\n",
              "      background-color: #E2EBFA;\n",
              "      box-shadow: 0px 1px 2px rgba(60, 64, 67, 0.3), 0px 1px 3px 1px rgba(60, 64, 67, 0.15);\n",
              "      fill: #174EA6;\n",
              "    }\n",
              "\n",
              "    .colab-df-buttons div {\n",
              "      margin-bottom: 4px;\n",
              "    }\n",
              "\n",
              "    [theme=dark] .colab-df-convert {\n",
              "      background-color: #3B4455;\n",
              "      fill: #D2E3FC;\n",
              "    }\n",
              "\n",
              "    [theme=dark] .colab-df-convert:hover {\n",
              "      background-color: #434B5C;\n",
              "      box-shadow: 0px 1px 3px 1px rgba(0, 0, 0, 0.15);\n",
              "      filter: drop-shadow(0px 1px 2px rgba(0, 0, 0, 0.3));\n",
              "      fill: #FFFFFF;\n",
              "    }\n",
              "  </style>\n",
              "\n",
              "    <script>\n",
              "      const buttonEl =\n",
              "        document.querySelector('#df-4f497084-8fc9-402b-90ab-1d47592b12a6 button.colab-df-convert');\n",
              "      buttonEl.style.display =\n",
              "        google.colab.kernel.accessAllowed ? 'block' : 'none';\n",
              "\n",
              "      async function convertToInteractive(key) {\n",
              "        const element = document.querySelector('#df-4f497084-8fc9-402b-90ab-1d47592b12a6');\n",
              "        const dataTable =\n",
              "          await google.colab.kernel.invokeFunction('convertToInteractive',\n",
              "                                                    [key], {});\n",
              "        if (!dataTable) return;\n",
              "\n",
              "        const docLinkHtml = 'Like what you see? Visit the ' +\n",
              "          '<a target=\"_blank\" href=https://colab.research.google.com/notebooks/data_table.ipynb>data table notebook</a>'\n",
              "          + ' to learn more about interactive tables.';\n",
              "        element.innerHTML = '';\n",
              "        dataTable['output_type'] = 'display_data';\n",
              "        await google.colab.output.renderOutput(dataTable, element);\n",
              "        const docLink = document.createElement('div');\n",
              "        docLink.innerHTML = docLinkHtml;\n",
              "        element.appendChild(docLink);\n",
              "      }\n",
              "    </script>\n",
              "  </div>\n",
              "\n",
              "\n",
              "<div id=\"df-09e3fab9-1c02-43e8-8ecf-b25dcba8192e\">\n",
              "  <button class=\"colab-df-quickchart\" onclick=\"quickchart('df-09e3fab9-1c02-43e8-8ecf-b25dcba8192e')\"\n",
              "            title=\"Suggest charts\"\n",
              "            style=\"display:none;\">\n",
              "\n",
              "<svg xmlns=\"http://www.w3.org/2000/svg\" height=\"24px\"viewBox=\"0 0 24 24\"\n",
              "     width=\"24px\">\n",
              "    <g>\n",
              "        <path d=\"M19 3H5c-1.1 0-2 .9-2 2v14c0 1.1.9 2 2 2h14c1.1 0 2-.9 2-2V5c0-1.1-.9-2-2-2zM9 17H7v-7h2v7zm4 0h-2V7h2v10zm4 0h-2v-4h2v4z\"/>\n",
              "    </g>\n",
              "</svg>\n",
              "  </button>\n",
              "\n",
              "<style>\n",
              "  .colab-df-quickchart {\n",
              "      --bg-color: #E8F0FE;\n",
              "      --fill-color: #1967D2;\n",
              "      --hover-bg-color: #E2EBFA;\n",
              "      --hover-fill-color: #174EA6;\n",
              "      --disabled-fill-color: #AAA;\n",
              "      --disabled-bg-color: #DDD;\n",
              "  }\n",
              "\n",
              "  [theme=dark] .colab-df-quickchart {\n",
              "      --bg-color: #3B4455;\n",
              "      --fill-color: #D2E3FC;\n",
              "      --hover-bg-color: #434B5C;\n",
              "      --hover-fill-color: #FFFFFF;\n",
              "      --disabled-bg-color: #3B4455;\n",
              "      --disabled-fill-color: #666;\n",
              "  }\n",
              "\n",
              "  .colab-df-quickchart {\n",
              "    background-color: var(--bg-color);\n",
              "    border: none;\n",
              "    border-radius: 50%;\n",
              "    cursor: pointer;\n",
              "    display: none;\n",
              "    fill: var(--fill-color);\n",
              "    height: 32px;\n",
              "    padding: 0;\n",
              "    width: 32px;\n",
              "  }\n",
              "\n",
              "  .colab-df-quickchart:hover {\n",
              "    background-color: var(--hover-bg-color);\n",
              "    box-shadow: 0 1px 2px rgba(60, 64, 67, 0.3), 0 1px 3px 1px rgba(60, 64, 67, 0.15);\n",
              "    fill: var(--button-hover-fill-color);\n",
              "  }\n",
              "\n",
              "  .colab-df-quickchart-complete:disabled,\n",
              "  .colab-df-quickchart-complete:disabled:hover {\n",
              "    background-color: var(--disabled-bg-color);\n",
              "    fill: var(--disabled-fill-color);\n",
              "    box-shadow: none;\n",
              "  }\n",
              "\n",
              "  .colab-df-spinner {\n",
              "    border: 2px solid var(--fill-color);\n",
              "    border-color: transparent;\n",
              "    border-bottom-color: var(--fill-color);\n",
              "    animation:\n",
              "      spin 1s steps(1) infinite;\n",
              "  }\n",
              "\n",
              "  @keyframes spin {\n",
              "    0% {\n",
              "      border-color: transparent;\n",
              "      border-bottom-color: var(--fill-color);\n",
              "      border-left-color: var(--fill-color);\n",
              "    }\n",
              "    20% {\n",
              "      border-color: transparent;\n",
              "      border-left-color: var(--fill-color);\n",
              "      border-top-color: var(--fill-color);\n",
              "    }\n",
              "    30% {\n",
              "      border-color: transparent;\n",
              "      border-left-color: var(--fill-color);\n",
              "      border-top-color: var(--fill-color);\n",
              "      border-right-color: var(--fill-color);\n",
              "    }\n",
              "    40% {\n",
              "      border-color: transparent;\n",
              "      border-right-color: var(--fill-color);\n",
              "      border-top-color: var(--fill-color);\n",
              "    }\n",
              "    60% {\n",
              "      border-color: transparent;\n",
              "      border-right-color: var(--fill-color);\n",
              "    }\n",
              "    80% {\n",
              "      border-color: transparent;\n",
              "      border-right-color: var(--fill-color);\n",
              "      border-bottom-color: var(--fill-color);\n",
              "    }\n",
              "    90% {\n",
              "      border-color: transparent;\n",
              "      border-bottom-color: var(--fill-color);\n",
              "    }\n",
              "  }\n",
              "</style>\n",
              "\n",
              "  <script>\n",
              "    async function quickchart(key) {\n",
              "      const quickchartButtonEl =\n",
              "        document.querySelector('#' + key + ' button');\n",
              "      quickchartButtonEl.disabled = true;  // To prevent multiple clicks.\n",
              "      quickchartButtonEl.classList.add('colab-df-spinner');\n",
              "      try {\n",
              "        const charts = await google.colab.kernel.invokeFunction(\n",
              "            'suggestCharts', [key], {});\n",
              "      } catch (error) {\n",
              "        console.error('Error during call to suggestCharts:', error);\n",
              "      }\n",
              "      quickchartButtonEl.classList.remove('colab-df-spinner');\n",
              "      quickchartButtonEl.classList.add('colab-df-quickchart-complete');\n",
              "    }\n",
              "    (() => {\n",
              "      let quickchartButtonEl =\n",
              "        document.querySelector('#df-09e3fab9-1c02-43e8-8ecf-b25dcba8192e button');\n",
              "      quickchartButtonEl.style.display =\n",
              "        google.colab.kernel.accessAllowed ? 'block' : 'none';\n",
              "    })();\n",
              "  </script>\n",
              "</div>\n",
              "    </div>\n",
              "  </div>\n"
            ]
          },
          "metadata": {},
          "execution_count": 17
        }
      ],
      "source": [
        "import pandas as pd\n",
        "\n",
        "data = pd.read_csv('stroke_data.csv')\n",
        "data.head(5)"
      ]
    },
    {
      "cell_type": "code",
      "execution_count": null,
      "metadata": {
        "colab": {
          "base_uri": "https://localhost:8080/"
        },
        "id": "vDzSN2d5zb70",
        "outputId": "09ea1511-9dd5-40b0-c042-de5025baffdd"
      },
      "outputs": [
        {
          "output_type": "stream",
          "name": "stdout",
          "text": [
            "Banyaknya data :  40910\n",
            "Banyaknya kolom :  11\n"
          ]
        }
      ],
      "source": [
        "# Rincian dataset (banyak data dan kolom)\n",
        "\n",
        "print(\"Banyaknya data : \", data.shape[0])\n",
        "print(\"Banyaknya kolom : \", data.shape[1])"
      ]
    },
    {
      "cell_type": "markdown",
      "metadata": {
        "id": "mbwxkD1yzb71"
      },
      "source": [
        "## Menghapus Data Duplikat\n",
        "\n",
        "menghapus data duplikat yang telah di cari pada eksekusi sebelumnya yang dimana peroleh data duplikat = 0. Dikarenakan data duplikat bernilai 0 pada sisa data tetap dengan jumlah data yang asli"
      ]
    },
    {
      "cell_type": "code",
      "execution_count": null,
      "metadata": {
        "colab": {
          "base_uri": "https://localhost:8080/"
        },
        "id": "eDdvvjARzb71",
        "outputId": "34bccac4-4c3f-415a-f8dc-cafef139cd90"
      },
      "outputs": [
        {
          "output_type": "stream",
          "name": "stdout",
          "text": [
            "Banyaknya sisa data :  40909\n"
          ]
        }
      ],
      "source": [
        "# Menghapus data yang duplikat\n",
        "data_bersih = data.drop_duplicates()\n",
        "\n",
        "print(\"Banyaknya sisa data : \", data_bersih.shape[0])"
      ]
    },
    {
      "cell_type": "markdown",
      "metadata": {
        "id": "rxWG0tHVzb72"
      },
      "source": [
        "## Menghapus Outlier"
      ]
    },
    {
      "cell_type": "code",
      "execution_count": null,
      "metadata": {
        "colab": {
          "base_uri": "https://localhost:8080/"
        },
        "id": "Q0wegyEuzb72",
        "outputId": "c7e17dc9-ddc1-4417-a2ae-bd73777c47d6"
      },
      "outputs": [
        {
          "output_type": "stream",
          "name": "stdout",
          "text": [
            "Data setelah menghapus outlier:\n",
            "Banyaknya data :  40639\n"
          ]
        }
      ],
      "source": [
        "# Menghapus data outlier dari DataFrame 'data'\n",
        "data_cleaned = data.drop(outlier_indices)\n",
        "\n",
        "# Menampilkan DataFrame setelah menghapus outlier\n",
        "print(\"Data setelah menghapus outlier:\")\n",
        "\n",
        "# Rincian dataset (banyak data dan kolom)\n",
        "print(\"Banyaknya data : \", data_cleaned.shape[0])\n"
      ]
    },
    {
      "cell_type": "markdown",
      "metadata": {
        "id": "CyqSEF6Ezb72"
      },
      "source": [
        "## Menyeimbangkan Data Tiap Target\n",
        "\n",
        "Pada hasil Mengidentifikasi jumlah data di peroleh jumlah target data 20460 : 20450. Namun setelah di lakukan Penghapusan Outlier maka di peroleh nilai sebagai berikut:"
      ]
    },
    {
      "cell_type": "code",
      "execution_count": null,
      "metadata": {
        "colab": {
          "base_uri": "https://localhost:8080/"
        },
        "id": "aJO6NInGzb73",
        "outputId": "d2c09093-da02-4d7f-e614-8658ed036109"
      },
      "outputs": [
        {
          "output_type": "execute_result",
          "data": {
            "text/plain": [
              "1    20447\n",
              "0    20192\n",
              "Name: stroke, dtype: int64"
            ]
          },
          "metadata": {},
          "execution_count": 21
        }
      ],
      "source": [
        "fitur = data_cleaned.drop(columns=['stroke'])\n",
        "target = data_cleaned['stroke']\n",
        "\n",
        "target.value_counts()"
      ]
    },
    {
      "cell_type": "markdown",
      "metadata": {
        "id": "N5ypj3mVzb74"
      },
      "source": [
        "dikarenakan data classification tidak mengalami ketidakeseimabangan data, maka tidak perlu melakukan penyeimbangan data target."
      ]
    },
    {
      "cell_type": "markdown",
      "metadata": {
        "id": "XzoCvYOLzb75"
      },
      "source": [
        "## Eksplorasi Data (Skoring Fitur)\n",
        "\n",
        "Mengindentifikasi fitur - fitur yang ada pada dataset stroke dengan tujuan menggunakan seleksi fitur dan menampilkan grafik"
      ]
    },
    {
      "cell_type": "code",
      "execution_count": null,
      "metadata": {
        "colab": {
          "base_uri": "https://localhost:8080/",
          "height": 971
        },
        "id": "8Xtz4MsLzb75",
        "outputId": "fd106418-6269-4e8b-80a6-699278e35f51"
      },
      "outputs": [
        {
          "output_type": "stream",
          "name": "stdout",
          "text": [
            "Fitur yang terpilih: ['hypertension', 'heart_disease', 'ever_married', 'avg_glucose_level', 'bmi']\n",
            "Fitur 0: sex, Skor: 0.012035059316185093\n",
            "Fitur 1: age, Skor: 0.01727732198194576\n",
            "Fitur 2: hypertension, Skor: 0.03467480845767046\n",
            "Fitur 3: heart_disease, Skor: 0.02957918917900182\n",
            "Fitur 4: ever_married, Skor: 0.0201319254163288\n",
            "Fitur 5: work_type, Skor: 0.015817635755511095\n",
            "Fitur 6: Residence_type, Skor: 0.006600990501245851\n",
            "Fitur 7: avg_glucose_level, Skor: 0.667346665083412\n",
            "Fitur 8: bmi, Skor: 0.2263202018131525\n",
            "Fitur 9: smoking_status, Skor: 0.003992267451345066\n",
            "   ever_married  avg_glucose_level   bmi\n",
            "0             1             228.69  36.6\n",
            "1             1             105.92  32.5\n",
            "2             1             171.23  34.4\n",
            "3             1             174.12  24.0\n",
            "4             1             186.21  29.0\n"
          ]
        },
        {
          "output_type": "display_data",
          "data": {
            "text/plain": [
              "<Figure size 1200x600 with 1 Axes>"
            ],
            "image/png": "[encoded data removed]"
          },
          "metadata": {}
        }
      ],
      "source": [
        "import matplotlib.pyplot as plt\n",
        "\n",
        "# Ambang skor untuk pemilihan fitur\n",
        "threshold = 0.02  # Gantilah dengan ambang yang diinginkan\n",
        "\n",
        "fitur = data_cleaned.drop(columns=['stroke'], axis=1)\n",
        "target = data_cleaned['stroke']\n",
        "\n",
        "# Buat objek SelectKBest dengan mutual_info_classif sebagai fungsi skor\n",
        "k_best = SelectKBest(score_func=mutual_info_classif, k='all')\n",
        "\n",
        "# Hitung skor fitur\n",
        "k_best.fit(fitur, target)\n",
        "scores = k_best.scores_\n",
        "\n",
        "# Dapatkan nama fitur dari kolom data Anda\n",
        "fitur_names = fitur.columns\n",
        "\n",
        "# Pilih fitur yang memiliki skor di atas ambang\n",
        "selected_features = [fitur_name for fitur_name, score in zip(fitur_names, scores) if score > threshold]\n",
        "\n",
        "# Tampilkan fitur yang terpilih\n",
        "print(\"Fitur yang terpilih:\", selected_features)\n",
        "\n",
        "# Drop fitur yang tidak terpilih\n",
        "fitur_selected = fitur[selected_features]\n",
        "\n",
        "# Tampilkan skor fitur berserta namanya\n",
        "for i, (score, fitur_name) in enumerate(zip(scores, fitur_names)):\n",
        "    print(f\"Fitur {i}: {fitur_name}, Skor: {score}\")\n",
        "\n",
        "# Hapus fitur yang memiliki skor di bawah ambang\n",
        "fitur_selected = fitur_selected[[fitur_name for fitur_name, score in zip(selected_features, scores) if score > threshold]]\n",
        "\n",
        "# Tampilkan data setelah pemilihan fitur\n",
        "print(fitur_selected.head())\n",
        "\n",
        "# Tampilkan grafik skor fitur\n",
        "plt.figure(figsize=(12, 6))\n",
        "plt.bar(range(len(fitur_names)), scores)\n",
        "plt.xticks(range(len(fitur_names)), fitur_names, rotation=90)\n",
        "plt.xlabel('Features')\n",
        "plt.ylabel('Information Gain')\n",
        "plt.title('Feature Importance (Information Gain)')\n",
        "plt.axhline(y=threshold, color='r', linestyle='--', label='Ambang')\n",
        "plt.show()\n"
      ]
    },
    {
      "cell_type": "markdown",
      "metadata": {
        "id": "4MMWxDZpzb76"
      },
      "source": [
        "Setelah dilakukan pencarian skor pada setiap fitur, terdapat 5 fitur yang memiliki skor atau bernilai dibawah 0.02 dan terdapat 5 fitur yang memilki nilai diatas dan sama dengan 0.02. maka dari itu, selanjutnya akan di lakukan penghapusan fitur yang memiliki nilai dibawah 0.02."
      ]
    },
    {
      "cell_type": "code",
      "execution_count": null,
      "metadata": {
        "colab": {
          "base_uri": "https://localhost:8080/"
        },
        "id": "WSufZRmXzb76",
        "outputId": "2b3621a4-5d02-4621-d5fa-f4acc6a1f491"
      },
      "outputs": [
        {
          "output_type": "stream",
          "name": "stdout",
          "text": [
            "Fitur yang terpilih:\n",
            "Index(['sex', 'age', 'hypertension', 'heart_disease', 'ever_married',\n",
            "       'work_type', 'Residence_type', 'avg_glucose_level', 'bmi',\n",
            "       'smoking_status'],\n",
            "      dtype='object')\n"
          ]
        }
      ],
      "source": [
        "import pandas as pd\n",
        "from sklearn.feature_selection import SelectKBest, mutual_info_classif\n",
        "\n",
        "# Ambang skor untuk pemilihan fitur\n",
        "threshold = 0.02  # Gantilah dengan ambang yang diinginkan\n",
        "\n",
        "# Buat objek SelectKBest dengan mutual_info_classif sebagai fungsi skor\n",
        "k_best = SelectKBest(score_func=mutual_info_classif, k='all')\n",
        "\n",
        "# Hitung skor fitur\n",
        "k_best.fit(fitur, target)\n",
        "\n",
        "# Dapatkan nama fitur dari kolom data Anda\n",
        "fitur_names = fitur.columns\n",
        "\n",
        "# Gunakan metode transform untuk mendapatkan DataFrame fitur yang terpilih\n",
        "fitur_selected = k_best.transform(fitur)\n",
        "\n",
        "# Tampilkan fitur yang terpilih\n",
        "selected_feature_names = fitur_names[k_best.get_support()]\n",
        "print(\"Fitur yang terpilih:\")\n",
        "print(selected_feature_names)\n",
        "\n",
        "# Gabungkan fitur yang terpilih dengan target\n",
        "dataset_baru = pd.concat([fitur[selected_feature_names], target], axis=1)\n",
        "\n",
        "\n"
      ]
    },
    {
      "cell_type": "code",
      "execution_count": null,
      "metadata": {
        "colab": {
          "base_uri": "https://localhost:8080/"
        },
        "id": "mHaZ9UH1zb77",
        "outputId": "0dc40e09-2284-4424-bf01-64d580237854"
      },
      "outputs": [
        {
          "output_type": "stream",
          "name": "stdout",
          "text": [
            "       sex   age  hypertension  heart_disease  ever_married  work_type  \\\n",
            "0      1.0  63.0             0              1             1          4   \n",
            "1      1.0  42.0             0              1             1          4   \n",
            "2      0.0  61.0             0              0             1          4   \n",
            "3      1.0  41.0             1              0             1          3   \n",
            "4      1.0  85.0             0              0             1          4   \n",
            "...    ...   ...           ...            ...           ...        ...   \n",
            "40905  1.0  38.0             0              0             0          4   \n",
            "40906  0.0  53.0             0              0             1          4   \n",
            "40907  1.0  32.0             0              0             1          2   \n",
            "40908  1.0  42.0             0              0             1          3   \n",
            "40909  1.0  35.0             0              0             0          4   \n",
            "\n",
            "       Residence_type  avg_glucose_level   bmi  smoking_status  stroke  \n",
            "0                   1             228.69  36.6               1       1  \n",
            "1                   0             105.92  32.5               0       1  \n",
            "2                   1             171.23  34.4               1       1  \n",
            "3                   0             174.12  24.0               0       1  \n",
            "4                   1             186.21  29.0               1       1  \n",
            "...               ...                ...   ...             ...     ...  \n",
            "40905               1             120.94  29.7               1       0  \n",
            "40906               0              77.66  40.8               0       0  \n",
            "40907               0             231.95  33.2               0       0  \n",
            "40908               0             216.38  34.5               0       0  \n",
            "40909               0              95.01  28.0               0       0  \n",
            "\n",
            "[40639 rows x 11 columns]\n"
          ]
        }
      ],
      "source": [
        "dataset_baru = pd.concat([fitur, target], axis=1)\n",
        "\n",
        "# Display the combined table\n",
        "print(dataset_baru)"
      ]
    },
    {
      "cell_type": "code",
      "execution_count": null,
      "metadata": {
        "id": "B-L6_2ULzb77"
      },
      "outputs": [],
      "source": [
        "import pandas as pd\n",
        "\n",
        "# Menyimpan DataFrame ke dalam file CSV\n",
        "dataset_baru.to_csv('dataset_baru.csv', index=False)"
      ]
    },
    {
      "cell_type": "code",
      "execution_count": null,
      "metadata": {
        "colab": {
          "base_uri": "https://localhost:8080/",
          "height": 604
        },
        "id": "A8K_4Txtzb78",
        "outputId": "283f8772-2e7e-4477-efb3-02fd277bf87f"
      },
      "outputs": [
        {
          "output_type": "stream",
          "name": "stdout",
          "text": [
            "Fitur yang terpilih:\n",
            "Index(['sex', 'age', 'hypertension', 'heart_disease', 'ever_married',\n",
            "       'work_type', 'Residence_type', 'avg_glucose_level', 'bmi',\n",
            "       'smoking_status'],\n",
            "      dtype='object')\n"
          ]
        },
        {
          "output_type": "display_data",
          "data": {
            "text/plain": [
              "<Figure size 1800x600 with 1 Axes>"
            ],
            "image/png": "[encoded data removed]"
          },
          "metadata": {}
        }
      ],
      "source": [
        "import matplotlib.pyplot as plt\n",
        "\n",
        "# Tampilkan fitur yang terpilih\n",
        "print(\"Fitur yang terpilih:\")\n",
        "print(fitur_names[k_best.get_support()])\n",
        "\n",
        "# Tampilkan skor fitur dalam grafik\n",
        "plt.figure(figsize=(18, 6))\n",
        "plt.bar(fitur_names[k_best.get_support()], k_best.scores_[k_best.get_support()])\n",
        "plt.xlabel(\"Nama Fitur\")\n",
        "plt.ylabel(\"Skor Fitur\")\n",
        "plt.title(\"Skor Fitur SelectKBest\")\n",
        "plt.xticks(rotation=90)\n",
        "plt.show()\n"
      ]
    },
    {
      "cell_type": "markdown",
      "metadata": {
        "id": "sceuDoUBzb78"
      },
      "source": [
        "## Split Data\n",
        "\n",
        "proses memisahkan dataset menjadi dua atau lebih bagian yang berbeda. Tujuan umumnya adalah untuk menggunakan satu bagian data sebagai data pelatihan (training data) untuk melatih model, dan bagian lainnya sebagai data pengujian (testing data) untuk menguji kinerja model."
      ]
    },
    {
      "cell_type": "code",
      "execution_count": null,
      "metadata": {
        "id": "SF2sjhlBzb78"
      },
      "outputs": [],
      "source": [
        "from sklearn.model_selection import train_test_split\n",
        "\n",
        "# melakukan pembagian dataset, dataset dibagi menjadi 80% data training dan 20% data testing\n",
        "fitur_train, fitur_test, target_train, target_test = train_test_split(fitur, target, test_size = 0.2, random_state=42)"
      ]
    },
    {
      "cell_type": "markdown",
      "metadata": {
        "id": "toETAxALzb79"
      },
      "source": [
        "## Normalisasi Data\n",
        "\n",
        "proses pengubahan nilai-nilai dalam suatu dataset menjadi rentang skala tertentu atau memastikan bahwa nilai-nilai tersebut mengikuti distribusi yang dapat meningkatkan kinerja beberapa algoritma machine learning.\n"
      ]
    },
    {
      "cell_type": "markdown",
      "metadata": {
        "id": "hjlAD5WHzb79"
      },
      "source": [
        "### Menggunakan Standarscaler (zscore)\n",
        "\n",
        "Normalisasi menggunakan Z-Score atau Standard Scaler adalah salah satu teknik normalisasi yang umum digunakan dalam pengolahan data dan machine learning. Normalisasi ini mengubah setiap nilai dalam dataset sehingga memiliki rata-rata nol dan deviasi standar satu. Hal ini membantu untuk menghilangkan perbedaan skala antar fitur, membuat data lebih mudah diinterpretasikan, dan meningkatkan performa beberapa algoritma machine learning. Berikut adalah penjelasan lebih detail tentang Normalisasi Standar atau Z-Score:\n",
        "\n",
        "**Langkah-langkah Normalisasi Standar (Z-Score):**\n",
        "\n",
        "1. **Hitung Rata-rata dan Deviasi Standar:** Untuk setiap fitur dalam dataset, hitung rata-rata $\\mu$ dan deviasi standar $\\sigma$.\n",
        "\n",
        "   $ \\mu = \\frac{1}{N} \\sum_{i=1}^{N} X_i $\n",
        "\n",
        "   $ \\sigma = \\sqrt{\\frac{1}{N} \\sum_{i=1}^{N} (X_i - \\mu)^2} $\n",
        "\n",
        "   Di sini, $N$ adalah jumlah total sampel, dan $X_i$ adalah nilai individu dalam suatu fitur.\n",
        "\n",
        "2. **Normalisasi Setiap Nilai:** Untuk setiap nilai dalam setiap fitur, normalisasikan nilai tersebut menggunakan rumus Z-Score:\n",
        "\n",
        "   $$ Z = \\frac{X - \\mu}{\\sigma} $$\n",
        "\n",
        "   Di sini, $X$ adalah nilai individu, $\\mu$ adalah rata-rata fitur, dan $\\sigma$ adalah deviasi standar fitur.\n",
        "\n",
        "Berikut adalah contoh penggunaan metode Standard Scaling (Z-Score Normalization) pada data kolom X yang berbeda:\n",
        "\n",
        "Diberikan tabel dengan kolom X berikut:\n",
        "\n",
        "| X  | X' |\n",
        "|----|----|\n",
        "| 8  | 0  |\n",
        "| 20 | 0  |\n",
        "| 12 | 0  |\n",
        "| 15 | 0  |\n",
        "| 25 | 0  |\n",
        "\n",
        "Langkah-langkah untuk melakukan normalisasi dengan metode Standard Scaling:\n",
        "\n",
        "1. Hitung rata-rata (mean) dan standar deviasi (standard deviation) dari kolom X.\n",
        "   - Rata-rata (mean) = $\\frac{8 + 20 + 12 + 15 + 25}{5} = 16$\n",
        "   - Standar Deviasi = $ \\sqrt{\\frac{\\sum{(X_i - \\text{mean})^2}}{N}} = \\sqrt{\\frac{(8-16)^2 + (20-16)^2 + (12-16)^2 + (15-16)^2 + (25-16)^2}{5}} \\approx 5.477$\n",
        "\n",
        "2. Normalisasikan setiap nilai dalam kolom X menggunakan rumus Z-Score Normalization:\n",
        "   $ X' = \\frac{X - \\text{mean}(X)}{\\text{std}(X)} $\n",
        "\n",
        "   Sehingga, nilai X' untuk setiap baris dapat dihitung sebagai berikut:\n",
        "\n",
        "   - ${X'}_1 = \\frac{8 - 16}{5.477} \\approx -1.46 $\n",
        "   - ${X'}_2 = \\frac{20 - 16}{5.477} \\approx 0.73 $\n",
        "   - ${X'}_3 = \\frac{12 - 16}{5.477} \\approx -0.73 $\n",
        "   - ${X'}_4 = \\frac{15 - 16}{5.477} \\approx -0.22 $\n",
        "   - ${X'}_5 = \\frac{25 - 16}{5.477} \\approx 1.64 $\n",
        "\n",
        "\n",
        "   Sehingga, hasil normalisasi (X') untuk contoh ini adalah:\n",
        "\n",
        "| X  | X'     |\n",
        "|----|--------|\n",
        "| 8  | -1.46  |\n",
        "| 20 | 0.73   |\n",
        "| 12 | -0.73  |\n",
        "| 15 | -0.22  |\n",
        "| 25 | 1.64   |\n",
        "\n",
        "Ini adalah contoh penggunaan Standard Scaling pada data kolom X yang berbeda."
      ]
    },
    {
      "cell_type": "code",
      "execution_count": null,
      "metadata": {
        "id": "ED1zwEo2zb79"
      },
      "outputs": [],
      "source": [
        "import pickle\n",
        "from sklearn.preprocessing import StandardScaler\n",
        "\n",
        "# membuat dan melatih objek StandardScaler\n",
        "zscore_scaler = StandardScaler()\n",
        "zscore_scaler.fit(fitur_train)\n",
        "\n",
        "with open('zscorescaler_baru.pkl', 'wb') as file:\n",
        "    pickle.dump(zscore_scaler, file)\n",
        "# menerapkan normalisasi zscore pada data training\n",
        "zscore_training = zscore_scaler.transform(fitur_train)\n",
        "\n",
        "# menerapkan normalisasi zscore pada data testing\n",
        "zscore_testing = zscore_scaler.transform(fitur_test)"
      ]
    },
    {
      "cell_type": "markdown",
      "metadata": {
        "id": "GNrbYP6Kzb79"
      },
      "source": [
        "### Menggunakan Minmaxscaler\n",
        "\n",
        "MinMax Normalization atau MinMax Scaling digunakan untuk mengubah nilai-nilai dalam suatu fitur ke dalam rentang tertentu, biasanya antara 0 dan 1. MinMax Normalization mengubah setiap nilai X dalam fitur ke dalam rentang yang diinginkan menggunakan rumus berikut:\n",
        "\n",
        "**Langkah-langkah Normalisasi Minmax:**\n",
        "\n",
        "1. Identifikasi Rentang: Tentukan rentang nilai yang ingin Anda gunakan. Biasanya, dalam Min-Max Scaling, rentang nilai yang dipilih adalah 0 hingga 1, tetapi ini bisa disesuaikan tergantung pada kasus penggunaan.\n",
        "\n",
        "2. Hitung Nilai Minimum dan Maksimum: Tentukan nilai minimum (min) dan nilai maksimum (max) dari setiap fitur dalam kumpulan data yang akan dinormalisasi.\n",
        "\n",
        "3. Normalisasi: Gunakan formula rumusn Min-Max Scaling untuk mengubah nilai-nilai dalam rentang yang ditentukan.\n",
        "\n",
        "Rumus Minmax Scaler\n",
        "\n",
        "$$X' = \\frac{X-Xmin}{Xmax - Xmin}$$\n",
        "\n",
        "Dimana :\n",
        "- X adalah nilai asli dari suatu kolom/fitur\n",
        "- min adalah nilai minimum dari suatu kolom/fitur dalam dataset\n",
        "- max adalah nilai maximum dari suatu kolom/fitur dalam dataset\n",
        "- X' adalah nilai X yang telah dinormalisasi.\n",
        "\n",
        "Berikut adalah contoh penggunaan Min-Max Scaling pada data kolom X yang berbeda:\n",
        "\n",
        "Diberikan tabel dengan kolom X berikut:\n",
        "\n",
        "| X  | X' |\n",
        "|----|----|\n",
        "| 5  | 0  |\n",
        "| 15 | 0  |\n",
        "| 8  | 0  |\n",
        "| 20 | 0  |\n",
        "\n",
        "Untuk melakukan normalisasi dengan Min-Max Scaling, kita perlu mengidentifikasi nilai terendah dan tertinggi pada kolom. Dalam kasus ini:\n",
        "\n",
        "- Nilai terendah pada kolom X (min) = 5\n",
        "- Nilai tertinggi pada kolom X (max) = 20\n",
        "\n",
        "\n",
        "Sehingga, nilai X' hasil normalisasi dapat dihitung seperti berikut:\n",
        "\n",
        "| X  | X'       |\n",
        "|----|----------|\n",
        "| 5  | (5 - 5) / (20 - 5) = 0 |\n",
        "| 15 | (15 - 5) / (20 - 5) = 0.6667 |\n",
        "| 8  | (8 - 5) / (20 - 5) = 0.3333 |\n",
        "| 20 | (20 - 5) / (20 - 5) = 1 |\n",
        "\n",
        "Jadi, nilai X' hasil normalisasi untuk contoh ini adalah:\n",
        "\n",
        "| X  | X'     |\n",
        "|----|--------|\n",
        "| 5  | 0      |\n",
        "| 15 | 0.6667 |\n",
        "| 8  | 0.3333 |\n",
        "| 20 | 1      |\n",
        "\n",
        "Ini adalah contoh penggunaan Min-Max Scaling pada data kolom X yang berbeda."
      ]
    },
    {
      "cell_type": "code",
      "execution_count": null,
      "metadata": {
        "id": "6J-eVeAvzb7-"
      },
      "outputs": [],
      "source": [
        "\n",
        "from sklearn.preprocessing import MinMaxScaler\n",
        "\n",
        "\n",
        "# membuat dan melatih objek MinMaxScaler\n",
        "minmaxscaler = MinMaxScaler()\n",
        "minmaxscaler.fit(fitur_train)\n",
        "\n",
        "# menerapkan normalisasi zscore pada data training\n",
        "minmax_training = minmaxscaler.transform(fitur_train)\n",
        "\n",
        "# menerapkan normalisasi zscore pada data testing\n",
        "minmax_testing = minmaxscaler.transform(fitur_test)"
      ]
    },
    {
      "cell_type": "markdown",
      "metadata": {
        "id": "kjbK3KzTzb7-"
      },
      "source": [
        "## 4. MODELING\n",
        "\n",
        "Setelah dilakukan skenario perulangan untuk menghasilkan model terbaik, dapat dikeathui bahwasannya model klasifikasi yang terbaik untuk data anggur merah ini adalah dengan menggunakan :\n",
        "- Metode Random Forest\n",
        "- Metode normalisasi nya adalah Z-score Scaler\n",
        "- Banyak Fitur yang digunakan dalam data sebanyak 5 fitur\n",
        "- Parameter dalam metode yang digunakan, sebagai berikut:\n",
        "\n",
        "  > - jumlah estimator         :\n",
        "  > - maksimal kedalaman       :\n",
        "  > - minimal pembagian sampel :\n",
        "  > -  minimal sampel daun     :"
      ]
    },
    {
      "cell_type": "markdown",
      "metadata": {
        "id": "7Jxb72szzb7-"
      },
      "source": [
        "### Menggunakan Random Forest\n",
        "\n",
        "random Forest adalah algoritma pembelajaran terawasi yang digunakan untuk tugas klasifikasi dan regresi dalam machine learning. Ini merupakan bagian dari keluarga algoritma yang dikenal sebagai ensemble learning, yang menggabungkan hasil beberapa model untuk meningkatkan kinerja dan ketepatan prediksi.\n",
        "\n",
        "Konsep inti dari Random Forest adalah membuat sejumlah besar pohon keputusan saat melakukan prediksi. Setiap pohon keputusan dibuat berdasarkan sampel acak dari data pelatihan dan fitur yang dipilih secara acak. Proses ini mengurangi risiko overfitting (memfitting data pelatihan secara berlebihan) yang sering terjadi pada pohon keputusan tunggal.\n",
        "\n",
        "Selama proses pelatihan, setiap pohon keputusan dalam hutan acak memilih subset data yang diambil secara acak dan subset fitur untuk membuat keputusan. Ketika melakukan prediksi, setiap pohon memberikan hasilnya, dan hasil akhir dari Random Forest diperoleh dengan mengambil mayoritas suara dari semua pohon keputusan (untuk klasifikasi) atau rerata hasil (untuk regresi).\n",
        "\n",
        "Kelebihan dari Random Forest termasuk kemampuannya dalam menangani data yang besar dengan fitur yang banyak, serta kemampuan untuk mengatasi overfitting. Namun, seperti halnya dengan banyak algoritma machine learning, pengaturan parameter yang tidak tepat atau kekurangan pemrosesan data yang tepat dapat mempengaruhi kinerja Random Forest.\n",
        "\n",
        "\n",
        "- Langkah-Langkah Random Forest:\n",
        "\n",
        "   **1. Pembuatan Bootstrap Samples:**\n",
        "      - Buat beberapa dataset bootstrap dari dataset pelatihan dengan pengambilan sampel dengan pengembalian.\n",
        "\n",
        "   **2. Pembuatan Pohon:**\n",
        "      - Bangun pohon keputusan untuk setiap dataset bootstrap. Pohon ini dibangun dengan memilih fitur secara acak pada setiap split.\n",
        "\n",
        "   **3. Prediksi dari Setiap Pohon:**\n",
        "      - Lakukan prediksi pada setiap pohon untuk data uji.\n",
        "\n",
        "   **4. Klasifikasi (Voting) atau Regresi (Average):**\n",
        "      - Untuk klasifikasi, tentukan hasil akhir menggunakan voting mayoritas. Untuk regresi, ambil rata-rata prediksi dari semua pohon.\n",
        "\n",
        "   **5. Evaluasi Kinerja:**\n",
        "      - Evaluasi kinerja model menggunakan metrik yang sesuai dengan tugas (misalnya, akurasi untuk klasifikasi, MSE untuk regresi).\n",
        "\n",
        "- Rumus:\n",
        "\n",
        "#### Gini Index (Untuk Pohon Keputusan):\n",
        "$$ Gini(t) = 1 - \\sum_{i=1}^{c} (p_i)^2 $$\n",
        "\n",
        "#### Prediksi Klasifikasi (Voting):\n",
        "$$ \\text{Prediction} = \\text{argmax}(\\text{votes}) $$\n",
        "\n",
        "#### Prediksi Regresi (Average):\n",
        "$$ \\text{Prediction} = \\frac{1}{N} \\sum_{i=1}^{N} y_i $$\n",
        "\n",
        "Di sini, $t$ adalah node dalam pohon, $c$ adalah jumlah kelas, $p_i$ adalah proporsi sampel di kelas $i$, $N$ adalah jumlah pohon dalam ensemble, dan $y_i$ adalah prediksi pohon ke-$i$."
      ]
    },
    {
      "cell_type": "code",
      "execution_count": null,
      "metadata": {
        "colab": {
          "base_uri": "https://localhost:8080/"
        },
        "id": "_BqVsaEczb7_",
        "outputId": "55d7dc07-7541-4b61-bb68-50cfc71cdcf1"
      },
      "outputs": [
        {
          "output_type": "stream",
          "name": "stdout",
          "text": [
            "Dengan Normalisasi Zscore:\n",
            "Fitur terbaik yang bisa digunakan 2 dengan akurasi :  1.0\n",
            "Dengan Normalisasi Minmax:\n",
            "Fitur terbaik yang bisa digunakan 6 dengan akurasi :  0.5301427165354331\n"
          ]
        }
      ],
      "source": [
        "from sklearn.feature_selection import SelectKBest, mutual_info_classif\n",
        "from sklearn.ensemble import RandomForestClassifier\n",
        "from sklearn.metrics import accuracy_score\n",
        "\n",
        "best_accuracy_rf_zscore = 0\n",
        "best_k_zscore = 0\n",
        "best_accuracy_rf_minmax = 0\n",
        "best_k_minmax = 0\n",
        "\n",
        "for k in range(1, fitur_train.shape[1] + 1):\n",
        "    # Buat objek SelectKBest dengan mutual_info_classif sebagai fungsi skor\n",
        "    k_best = SelectKBest(score_func=mutual_info_classif, k=k)\n",
        "\n",
        "    # Fiturkan objek SelectKBest ke data training untuk kedua normalisasi (zscore dan minmax)\n",
        "    zscore_training_terbaik = k_best.fit_transform(zscore_training, target_train)\n",
        "    zscore_testing_terbaik = k_best.transform(zscore_testing)\n",
        "\n",
        "    # Transformasi data testing dengan objek SelectKBest yang sudah difit ke data training\n",
        "    minmaxtesting_terbaik = k_best.transform(minmax_testing)\n",
        "\n",
        "    # Buat dan latih model dengan normalisasi zscore\n",
        "    model_zscore = RandomForestClassifier(random_state=42)\n",
        "    model_zscore.fit(zscore_training_terbaik, target_train)\n",
        "\n",
        "    # Lakukan prediksi pada data uji dengan normalisasi zscore\n",
        "    y_pred_rf_zscore = model_zscore.predict(zscore_testing_terbaik)\n",
        "\n",
        "    # Hitung akurasi dengan normalisasi zscore\n",
        "    accuracy_rf_zscore = accuracy_score(target_test, y_pred_rf_zscore)\n",
        "\n",
        "    # Buat dan latih model dengan normalisasi minmax\n",
        "    model_minmax = RandomForestClassifier(random_state=42)\n",
        "    model_minmax.fit(zscore_training_terbaik, target_train)  # Gunakan zscore_training_terbaik untuk minmax\n",
        "\n",
        "    # Lakukan prediksi pada data uji dengan normalisasi minmax\n",
        "    y_pred_rf_minmax = model_minmax.predict(minmaxtesting_terbaik)\n",
        "\n",
        "    # Hitung akurasi dengan normalisasi minmax\n",
        "    accuracy_rf_minmax = accuracy_score(target_test, y_pred_rf_minmax)\n",
        "\n",
        "    # Memeriksa apakah akurasi dengan normalisasi zscore lebih baik dari yang sebelumnya\n",
        "    if accuracy_rf_zscore > best_accuracy_rf_zscore:\n",
        "        best_accuracy_rf_zscore = accuracy_rf_zscore\n",
        "        best_k_zscore = k\n",
        "\n",
        "    # Memeriksa apakah akurasi dengan normalisasi minmax lebih baik dari yang sebelumnya\n",
        "    if accuracy_rf_minmax > best_accuracy_rf_minmax:\n",
        "        best_accuracy_rf_minmax = accuracy_rf_minmax\n",
        "        best_k_minmax = k\n",
        "\n",
        "print(\"Dengan Normalisasi Zscore:\")\n",
        "print(\"Fitur terbaik yang bisa digunakan\", best_k_zscore, \"dengan akurasi : \", best_accuracy_rf_zscore)\n",
        "\n",
        "print(\"Dengan Normalisasi Minmax:\")\n",
        "print(\"Fitur terbaik yang bisa digunakan\", best_k_minmax, \"dengan akurasi : \", best_accuracy_rf_minmax)\n"
      ]
    },
    {
      "cell_type": "markdown",
      "metadata": {
        "id": "zSOZQls2zb7_"
      },
      "source": [
        "Pada percobaan dengan menggunakan metode Random Forest terhadap dataset stroke diperoleh hasil akurasi dari setiap Normalisasi Z-score = 1.0 dan Minmax = 0.530\n",
        "\n",
        "maka dari itu, untuk selanjutnya kita akan menggunakan normalisasi Z-score untuk membuat modelnya."
      ]
    },
    {
      "cell_type": "code",
      "execution_count": null,
      "metadata": {
        "colab": {
          "base_uri": "https://localhost:8080/"
        },
        "id": "tiLZUG8hzb8A",
        "outputId": "a93f6252-ff17-4f27-eeca-44802025759f"
      },
      "outputs": [
        {
          "output_type": "stream",
          "name": "stdout",
          "text": [
            "AKURASI RANDOM FOREST\n",
            "AKURASI MINMAX : 0.9977854330708661\n"
          ]
        }
      ],
      "source": [
        "# MINMAX\n",
        "model_rf_zscore = RandomForestClassifier(max_depth=None, min_samples_leaf=1, min_samples_split=2, n_estimators=1000)\n",
        "model_rf_zscore.fit(zscore_training, target_train)\n",
        "# Lakukan prediksi pada data uji dengan normalisasi zscore\n",
        "y_pred_zscore = model_rf_zscore.predict(zscore_testing)\n",
        "# Hitung akurasi dengan normalisasi zscore\n",
        "accuracy_rf_zscore = accuracy_score(target_test, y_pred_zscore)\n",
        "\n",
        "print(\"AKURASI RANDOM FOREST\")\n",
        "print(\"AKURASI MINMAX :\", accuracy_rf_zscore)\n"
      ]
    },
    {
      "cell_type": "code",
      "execution_count": null,
      "metadata": {
        "id": "Q8J3eQX2zb8A"
      },
      "outputs": [],
      "source": [
        "import pickle\n",
        "\n",
        "path_rf = 'gridrandomforestzscore.pkl'\n",
        "with open(path_rf, 'wb') as model_file:\n",
        "    pickle.dump(model_rf_zscore, model_file)"
      ]
    },
    {
      "cell_type": "markdown",
      "metadata": {
        "id": "eiu4_tyyzb8A"
      },
      "source": [
        "### ---EVALUASI MODEL---\n",
        "\n",
        "Pada tahap ini model terbaik yang diperoleh pada tahap modeling dilakukan validasi dengan menampilkan nilai confusion matrix nya atau laporan klasifikasinya dengan menggunakan grafik ROC-AUC"
      ]
    },
    {
      "cell_type": "markdown",
      "metadata": {
        "id": "nvOopnPrzb8B"
      },
      "source": [
        "### CONFUSION MATRIX\n",
        "---\n",
        "\n",
        "Confusion matrix adalah sebuah tabel yang digunakan dalam evaluasi kinerja model klasifikasi untuk memahami performa model dalam memprediksi kelas-kelas target. Matrix ini memiliki empat sel yang mewakili:\n",
        "\n",
        "1. True Positive (TP): Prediksi yang benar ketika kelas sebenarnya adalah positif.\n",
        "2. True Negative (TN): Prediksi yang benar ketika kelas sebenarnya adalah negatif.\n",
        "3. False Positive (FP): Prediksi yang salah ketika model memprediksi positif tetapi kelas sebenarnya negatif (juga dikenal sebagai Type I error).\n",
        "4. False Negative (FN): Prediksi yang salah ketika model memprediksi negatif tetapi kelas sebenarnya positif (juga dikenal sebagai Type II error).\n",
        "\n",
        "Bentuk dari tabel Confusion Matrix\n",
        "\n",
        "|                | Predicted Negative | Predicted Positive |\n",
        "|----------------|--------------------|--------------------|\n",
        "| Actual Negative| True Negative (TN) | False Positive (FP)|\n",
        "| Actual Positive| False Negative (FN)| True Positive (TP) |\n",
        "\n",
        "Dari Confusion Matriks, kta dapat  menghitung metrik evaluasi seperti akurasi, presisi, recall, F1-score, dan lainnya yang membantu dalam mengevaluasi performa model klasifikasi.\n",
        "\n",
        "#### Metrik Evaluasi\n",
        "\n",
        "Metrik evaluasi adalah ukuran atau parameter yang digunakan untuk mengevaluasi kinerja suatu model atau sistem dalam melakukan tugas tertentu, seperti klasifikasi, regresi, atau tugas lainnya dalam bidang machine learning dan statistika. Metrik-metrik ini membantu dalam memahami seberapa baik atau buruk model tersebut dalam melakukan prediksi atau tugas yang ditetapkan.\n",
        "\n",
        "Beberapa metrik evaluasi umum dalam machine learning termasuk:\n",
        "> - Akurasi (Accuracy): Seberapa sering model memberikan prediksi yang benar secara keseluruhan.\n",
        "Rumus Akurasi :\n",
        "$$ Accuracy = \\frac{TN + TP}{TN + FP + FN + TP} $$\n",
        "> - Presisi (Precision): Proporsi dari prediksi positif yang benar dibandingkan dengan semua prediksi positif yang dibuat oleh model\n",
        "Rumus Precision :\n",
        "$$ Precision = \\frac{TP}{TP + FP} $$\n",
        "> - Recall (Sensitivity atau True Positive Rate): Proporsi dari kelas positif yang diprediksi dengan benar oleh model.\n",
        "Rumus Recall :\n",
        "$$ Recall = \\frac{TP}{TP + FN} $$\n",
        "> - F1-Score: Nilai rata-rata harmonik antara presisi dan recall. Berguna ketika perlu menyeimbangkan antara presisi dan recall.\n",
        "Rumus F1-Score :\n",
        "$$ F1-Score = 2 x \\frac {Presisi x Recall}{Presisi x Recall} $$\n",
        "> - Specificity (Specificity atau True Negative Rate): Proporsi dari kelas negatif yang diprediksi dengan benar oleh model.\n",
        "Rumus Specificity :\n",
        "$$ Specificity = \\frac{TN}{TN + FP} $$\n",
        "\n"
      ]
    },
    {
      "cell_type": "code",
      "execution_count": null,
      "metadata": {
        "colab": {
          "base_uri": "https://localhost:8080/"
        },
        "id": "65dj1T4Kzb8B",
        "outputId": "0f4440cc-2294-4d19-c870-51a1cfe028f0"
      },
      "outputs": [
        {
          "output_type": "stream",
          "name": "stdout",
          "text": [
            "\n",
            "Model Random Forest Menggunakan zscoreScaler:\n",
            "Akurasi: 1.00\n",
            "Presisi: 1.00\n",
            "Recall: 1.00\n",
            "F1-Score: 1.00\n",
            "\n",
            "Model Random Forest Menggunakan minmaxScaler:\n",
            "Akurasi: 0.51\n",
            "Presisi: 0.57\n",
            "Recall: 0.51\n",
            "F1-Score: 0.38\n"
          ]
        }
      ],
      "source": [
        "from sklearn.metrics import accuracy_score, precision_score, recall_score, f1_score\n",
        "\n",
        "def evaluate_model(y_true, y_pred, model_name, scaler_name):\n",
        "    accuracy = accuracy_score(y_true, y_pred)\n",
        "    precision = precision_score(y_true, y_pred, average='weighted')\n",
        "    recall = recall_score(y_true, y_pred, average='weighted')\n",
        "    f1 = f1_score(y_true, y_pred, average='weighted')\n",
        "\n",
        "    print(f\"\\nModel {model_name} Menggunakan {scaler_name}:\")\n",
        "    print(f'Akurasi: {accuracy:.2f}')\n",
        "    print(f'Presisi: {precision:.2f}')\n",
        "    print(f'Recall: {recall:.2f}')\n",
        "    print(f'F1-Score: {f1:.2f}')\n",
        "\n",
        "# Evaluasi model Random Forest dengan zscorescaler\n",
        "evaluate_model(target_test, y_pred_rf_zscore, \"Random Forest\", \"zscoreScaler\")\n",
        "\n",
        "# Evaluasi model Random Forest dengan minmaxscaler\n",
        "evaluate_model(target_test, y_pred_rf_minmax, \"Random Forest\", \"minmaxScaler\")\n"
      ]
    },
    {
      "cell_type": "code",
      "execution_count": null,
      "metadata": {
        "colab": {
          "base_uri": "https://localhost:8080/"
        },
        "id": "tO32wJ_Gzb8C",
        "outputId": "7347ce01-99cd-441f-cbe3-74d28e3ade58"
      },
      "outputs": [
        {
          "output_type": "stream",
          "name": "stdout",
          "text": [
            "\n",
            "EVALUASI MODEL DENGAN DATA UJI Z-score\n",
            "Confusion Matrix Z-score:\n",
            "[[4033   16]\n",
            " [   0 4079]]\n",
            "\n",
            "True Positive (TP): 4079\n",
            "True Negative (TN): 4033\n",
            "False Positive (FP): 16\n",
            "False Negative (FN): 0\n",
            "\n",
            "Classification Report Z-score:\n",
            "              precision    recall  f1-score   support\n",
            "\n",
            "           0       1.00      1.00      1.00      4049\n",
            "           1       1.00      1.00      1.00      4079\n",
            "\n",
            "    accuracy                           1.00      8128\n",
            "   macro avg       1.00      1.00      1.00      8128\n",
            "weighted avg       1.00      1.00      1.00      8128\n",
            "\n",
            "ROC-AUC Score Z-score: 0.9980242035070388\n"
          ]
        }
      ],
      "source": [
        "from sklearn.metrics import confusion_matrix, classification_report, roc_auc_score,roc_curve\n",
        "\n",
        "# Evaluasi model dengan data uji Z-score\n",
        "print(\"\\nEVALUASI MODEL DENGAN DATA UJI Z-score\")\n",
        "print(\"Confusion Matrix Z-score:\")\n",
        "conf_matrix = confusion_matrix(target_test, y_pred_rf_zscore)\n",
        "print(conf_matrix)\n",
        "\n",
        "# Mendapatkan nilai TP, TN, FP, FN dari confusion matrix\n",
        "TN = conf_matrix[0, 0]\n",
        "FP = conf_matrix[0, 1]\n",
        "FN = conf_matrix[1, 0]\n",
        "TP = conf_matrix[1, 1]\n",
        "\n",
        "print(\"\\nTrue Positive (TP):\", TP)\n",
        "print(\"True Negative (TN):\", TN)\n",
        "print(\"False Positive (FP):\", FP)\n",
        "print(\"False Negative (FN):\", FN)\n",
        "\n",
        "print(\"\\nClassification Report Z-score:\")\n",
        "print(classification_report(target_test, y_pred_rf_zscore))\n",
        "print(\"ROC-AUC Score Z-score:\", roc_auc_score(target_test, y_pred_rf_zscore))\n"
      ]
    },
    {
      "cell_type": "markdown",
      "metadata": {
        "id": "vnKYuAIazb8C"
      },
      "source": [
        "Ada beberapa poin yang perlu diperhatikan :\n",
        "1. Akurasi\n",
        "2. Presisi mengukur sejauh mana hasil positif yang diprediksi oleh model adalah benar.\n",
        "3. Recall Recall mengukur sejauh mana model dapat mengidentifikasi dengan benar semua instance positif dalam data.\n",
        "4. F1-Score adalah metrik gabungan yang mempertimbangkan presisi dan recall.\n",
        "\n",
        "Dengan mempertimbangkan keempat poin di atas, diambil keputusan akan dilakukan modelling menggunakan support vector machine dengan normalisasi  minmaxscaler"
      ]
    },
    {
      "cell_type": "markdown",
      "metadata": {
        "id": "9sTvnOF5zb8C"
      },
      "source": [
        "### GRAFIK ROC-AUC\n",
        "---\n",
        "\n",
        "Metrik evaluasi ROC (Receiver Operating Characteristic) dan AUC (Area Under the ROC Curve) adalah alat evaluasi yang digunakan untuk mengukur kinerja model klasifikasi, terutama ketika model harus mengklasifikasikan antara dua kelas.\n",
        "\n",
        "#### Receiver Operating Characteristic (ROC) Curve\n",
        "ROC Curve adalah adalah kurva grafik yang menampilkan kinerja model klasifikasi pada berbagai tingkat cutoff (threshold) untuk membedakan antara kelas positif dan negatif. Didalam ROC kurva dapat diketahui sensitivity (True Positive Rate) dan False Positive Rate (1-Specificity), untuk menunjukkan seberapa baik model klasifikasi sehingga dapat membedakan antara kelas positif dan negatif.\n",
        "\n",
        "\n",
        "#### Area Under the ROC Curve (AUC-ROC):\n",
        "AUC-ROC adalah ukuran dari luas area di bawah kurva ROC.\n",
        "- Interpretasi :\n",
        " Nilai AUC berkisar antara 0 hingga 1. Semakin dekat nilainya ke 1, semakin baik model dalam membedakan antara kelas positif dan negatif. Jika nilainya 0.5, itu menunjukkan klasifikasi acak."
      ]
    },
    {
      "cell_type": "code",
      "execution_count": null,
      "metadata": {
        "colab": {
          "base_uri": "https://localhost:8080/",
          "height": 619
        },
        "id": "RzechIJUzb8C",
        "outputId": "068d0514-00db-4621-f245-ac9cece1acc1"
      },
      "outputs": [
        {
          "output_type": "stream",
          "name": "stderr",
          "text": [
            "/usr/local/lib/python3.10/dist-packages/sklearn/metrics/_ranking.py:1029: UndefinedMetricWarning: No positive samples in y_true, true positive value should be meaningless\n",
            "  warnings.warn(\n"
          ]
        },
        {
          "output_type": "display_data",
          "data": {
            "text/plain": [
              "<Figure size 800x600 with 1 Axes>"
            ],
            "image/png": "[encoded data removed]"
          },
          "metadata": {}
        }
      ],
      "source": [
        "# Kurva ROC-AUC untuk model dengan data uji z-score\n",
        "fpr_zscore, tpr_zscore, thresholds_zscore = roc_curve(target_test, y_pred_rf_zscore, pos_label=2)\n",
        "plt.figure(figsize=(8, 6))\n",
        "plt.plot(fpr_zscore, tpr_zscore, label='ROC Curve Z-score (AUC = %0.2f)' % roc_auc_score(target_test, y_pred_rf_zscore))\n",
        "plt.plot([0, 1], [0, 1], 'k--')\n",
        "plt.xlabel('False Positive Rate')\n",
        "plt.ylabel('True Positive Rate')\n",
        "plt.title('Receiver Operating Characteristic (ROC) Curve Z-score')\n",
        "plt.legend(loc='lower right')\n",
        "plt.show()\n"
      ]
    },
    {
      "cell_type": "markdown",
      "metadata": {
        "id": "3vPAxSukzb8D"
      },
      "source": [
        "# --- DEPLOYMENT ---"
      ]
    },
    {
      "cell_type": "markdown",
      "metadata": {
        "id": "8HydI0mRzb8D"
      },
      "source": [
        "code dilanjut pada file main.py untuk membangun sistem"
      ]
    }
  ],
  "metadata": {
    "kernelspec": {
      "display_name": "Python 3",
      "language": "python",
      "name": "python3"
    },
    "language_info": {
      "codemirror_mode": {
        "name": "ipython",
        "version": 3
      },
      "file_extension": ".py",
      "mimetype": "text/x-python",
      "name": "python",
      "nbconvert_exporter": "python",
      "pygments_lexer": "ipython3",
      "version": "3.11.6"
    },
    "colab": {
      "provenance": []
    }
  },
  "nbformat": 4,
  "nbformat_minor": 0
}